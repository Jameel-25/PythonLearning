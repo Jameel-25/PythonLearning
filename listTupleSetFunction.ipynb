{
 "cells": [
  {
   "cell_type": "code",
   "execution_count": 1,
   "id": "c1692a68-cea1-470a-b5a0-49778d9df09a",
   "metadata": {},
   "outputs": [
    {
     "name": "stdout",
     "output_type": "stream",
     "text": [
      "['d', 'u', 'r', 'g', 'a']\n"
     ]
    }
   ],
   "source": [
    "s=\"durga\"\n",
    "l=list(s)\n",
    "print(l)"
   ]
  },
  {
   "cell_type": "code",
   "execution_count": 3,
   "id": "e0217ad1-d529-4089-b92d-b09fc00cfbbc",
   "metadata": {},
   "outputs": [
    {
     "name": "stdout",
     "output_type": "stream",
     "text": [
      "['Learning', 'python', 'is', 'very', 'very', 'very', 'easy!!!']\n",
      "<class 'list'>\n"
     ]
    }
   ],
   "source": [
    "s=\"Learning python is very very very easy!!!\"\n",
    "l=s.split()\n",
    "print(l)\n",
    "print(type(l))"
   ]
  },
  {
   "cell_type": "code",
   "execution_count": 5,
   "id": "a4f82bdc-a004-47d5-9443-4448fea8cd5f",
   "metadata": {},
   "outputs": [
    {
     "name": "stdout",
     "output_type": "stream",
     "text": [
      "10\n"
     ]
    }
   ],
   "source": [
    "list=[10,20,30,40]\n",
    "print(list[0])"
   ]
  },
  {
   "cell_type": "code",
   "execution_count": 7,
   "id": "4c1ea7d2-289d-41ae-b823-a85045297c28",
   "metadata": {},
   "outputs": [
    {
     "data": {
      "text/plain": [
       "40"
      ]
     },
     "execution_count": 7,
     "metadata": {},
     "output_type": "execute_result"
    }
   ],
   "source": [
    "list[-1]\n"
   ]
  },
  {
   "cell_type": "code",
   "execution_count": 9,
   "id": "de3a1560-51eb-40f7-bd6e-b28f8fec66e7",
   "metadata": {},
   "outputs": [
    {
     "ename": "IndexError",
     "evalue": "list index out of range",
     "output_type": "error",
     "traceback": [
      "\u001b[1;31m---------------------------------------------------------------------------\u001b[0m",
      "\u001b[1;31mIndexError\u001b[0m                                Traceback (most recent call last)",
      "Cell \u001b[1;32mIn[9], line 1\u001b[0m\n\u001b[1;32m----> 1\u001b[0m \u001b[38;5;28mlist\u001b[39m[\u001b[38;5;241m10\u001b[39m]\n",
      "\u001b[1;31mIndexError\u001b[0m: list index out of range"
     ]
    }
   ],
   "source": [
    "list[10]"
   ]
  },
  {
   "cell_type": "code",
   "execution_count": 13,
   "id": "f8cca8f5-8ed9-4e9e-8e62-6fd2a4841b4d",
   "metadata": {},
   "outputs": [],
   "source": [
    "n=[1,2,3,4,5,6,7,8,9,10]\n"
   ]
  },
  {
   "cell_type": "code",
   "execution_count": 15,
   "id": "03041630-f59d-4286-b550-16d4c7ecd66d",
   "metadata": {},
   "outputs": [
    {
     "data": {
      "text/plain": [
       "[3, 5, 7]"
      ]
     },
     "execution_count": 15,
     "metadata": {},
     "output_type": "execute_result"
    }
   ],
   "source": [
    "n[2:7:2]"
   ]
  },
  {
   "cell_type": "code",
   "execution_count": 17,
   "id": "a461fd0c-b839-412b-821a-ab0086fdd15d",
   "metadata": {},
   "outputs": [
    {
     "data": {
      "text/plain": [
       "[1, 4, 7]"
      ]
     },
     "execution_count": 17,
     "metadata": {},
     "output_type": "execute_result"
    }
   ],
   "source": [
    "n[:7:3]"
   ]
  },
  {
   "cell_type": "code",
   "execution_count": 19,
   "id": "95b57948-3cb0-4c19-bcb1-329a44873075",
   "metadata": {},
   "outputs": [],
   "source": [
    "n[2]=\"jameel\""
   ]
  },
  {
   "cell_type": "code",
   "execution_count": 21,
   "id": "febc63f1-0d45-4991-8cf0-a6e343b8d0c7",
   "metadata": {},
   "outputs": [
    {
     "data": {
      "text/plain": [
       "[1, 2, 'jameel', 4, 5, 6, 7, 8, 9, 10]"
      ]
     },
     "execution_count": 21,
     "metadata": {},
     "output_type": "execute_result"
    }
   ],
   "source": [
    "n\n"
   ]
  },
  {
   "cell_type": "code",
   "execution_count": 27,
   "id": "2d28c5fa-b326-4aa0-9fbd-d8de27b78a18",
   "metadata": {},
   "outputs": [
    {
     "name": "stdout",
     "output_type": "stream",
     "text": [
      "A is available at positive index: 0 and at negative index: -3\n",
      "B is available at positive index: 1 and at negative index: -2\n",
      "C is available at positive index: 2 and at negative index: -1\n"
     ]
    }
   ],
   "source": [
    "l=[\"A\",\"B\",\"C\"]\n",
    "x=len(l)\n",
    "for i in range(x):\n",
    "    print(l[i],\"is available at positive index:\",i,\"and at negative index:\",i-x)"
   ]
  },
  {
   "cell_type": "code",
   "execution_count": 29,
   "id": "d428c3cf-a548-4179-a6a5-9002d02c6257",
   "metadata": {},
   "outputs": [
    {
     "ename": "AttributeError",
     "evalue": "'list' object has no attribute 'len'",
     "output_type": "error",
     "traceback": [
      "\u001b[1;31m---------------------------------------------------------------------------\u001b[0m",
      "\u001b[1;31mAttributeError\u001b[0m                            Traceback (most recent call last)",
      "Cell \u001b[1;32mIn[29], line 1\u001b[0m\n\u001b[1;32m----> 1\u001b[0m l\u001b[38;5;241m.\u001b[39mlen()\n",
      "\u001b[1;31mAttributeError\u001b[0m: 'list' object has no attribute 'len'"
     ]
    }
   ],
   "source": [
    "l.len()\n"
   ]
  },
  {
   "cell_type": "code",
   "execution_count": 31,
   "id": "7e6b87aa-8ed3-4b92-81df-bcf9f17ce6e3",
   "metadata": {},
   "outputs": [
    {
     "data": {
      "text/plain": [
       "3"
      ]
     },
     "execution_count": 31,
     "metadata": {},
     "output_type": "execute_result"
    }
   ],
   "source": [
    "len(l)"
   ]
  },
  {
   "cell_type": "code",
   "execution_count": 33,
   "id": "a9c2a35a-2a0c-448b-bf5f-a7cb1072fea1",
   "metadata": {},
   "outputs": [
    {
     "ename": "NameError",
     "evalue": "name 'a' is not defined",
     "output_type": "error",
     "traceback": [
      "\u001b[1;31m---------------------------------------------------------------------------\u001b[0m",
      "\u001b[1;31mNameError\u001b[0m                                 Traceback (most recent call last)",
      "Cell \u001b[1;32mIn[33], line 1\u001b[0m\n\u001b[1;32m----> 1\u001b[0m s\u001b[38;5;241m.\u001b[39mcount(a)\n",
      "\u001b[1;31mNameError\u001b[0m: name 'a' is not defined"
     ]
    }
   ],
   "source": [
    "s.count(a)"
   ]
  },
  {
   "cell_type": "code",
   "execution_count": 35,
   "id": "1f1f0824-c7f0-4b4c-8c0e-42c4f6c23a1e",
   "metadata": {},
   "outputs": [
    {
     "data": {
      "text/plain": [
       "0"
      ]
     },
     "execution_count": 35,
     "metadata": {},
     "output_type": "execute_result"
    }
   ],
   "source": [
    "n=[1,2,2,2,2,3,4,5,5,7]\n",
    "n.index(1)"
   ]
  },
  {
   "cell_type": "code",
   "execution_count": 37,
   "id": "47eb24ee-6651-4b27-9f86-8eaaac35e390",
   "metadata": {},
   "outputs": [
    {
     "data": {
      "text/plain": [
       "9"
      ]
     },
     "execution_count": 37,
     "metadata": {},
     "output_type": "execute_result"
    }
   ],
   "source": [
    "n.index(7)"
   ]
  },
  {
   "cell_type": "code",
   "execution_count": 39,
   "id": "1c1139a6-6f1d-4993-beda-8c59043e3d9c",
   "metadata": {},
   "outputs": [],
   "source": [
    "list=[]\n",
    "list.append(\"A\")\n",
    "list.append(\"B\")\n",
    "list.append(\"C\")"
   ]
  },
  {
   "cell_type": "code",
   "execution_count": 41,
   "id": "2fce9127-802b-48c0-9737-d699e11b20ff",
   "metadata": {},
   "outputs": [
    {
     "data": {
      "text/plain": [
       "['A', 'B', 'C']"
      ]
     },
     "execution_count": 41,
     "metadata": {},
     "output_type": "execute_result"
    }
   ],
   "source": [
    "list\n"
   ]
  },
  {
   "cell_type": "code",
   "execution_count": 43,
   "id": "d78d2f04-ab55-4ac0-a9ea-b884e4ad069a",
   "metadata": {},
   "outputs": [
    {
     "ename": "NameError",
     "evalue": "name 'A' is not defined",
     "output_type": "error",
     "traceback": [
      "\u001b[1;31m---------------------------------------------------------------------------\u001b[0m",
      "\u001b[1;31mNameError\u001b[0m                                 Traceback (most recent call last)",
      "Cell \u001b[1;32mIn[43], line 1\u001b[0m\n\u001b[1;32m----> 1\u001b[0m \u001b[38;5;28mlist\u001b[39m\u001b[38;5;241m.\u001b[39mappend(A)\n",
      "\u001b[1;31mNameError\u001b[0m: name 'A' is not defined"
     ]
    }
   ],
   "source": [
    "list.append(A)"
   ]
  },
  {
   "cell_type": "code",
   "execution_count": 45,
   "id": "f9e4d863-04e4-4be1-aac5-37abe8db911e",
   "metadata": {},
   "outputs": [],
   "source": [
    "list.append(1)"
   ]
  },
  {
   "cell_type": "code",
   "execution_count": 47,
   "id": "c37ee81c-6998-45f8-b242-235e89f60a7f",
   "metadata": {},
   "outputs": [
    {
     "data": {
      "text/plain": [
       "['A', 'B', 'C', 1]"
      ]
     },
     "execution_count": 47,
     "metadata": {},
     "output_type": "execute_result"
    }
   ],
   "source": [
    "list"
   ]
  },
  {
   "cell_type": "code",
   "execution_count": 49,
   "id": "9b1888cd-df8e-4268-a7d3-3ee50e18f9e9",
   "metadata": {},
   "outputs": [],
   "source": [
    "list.remove(1)"
   ]
  },
  {
   "cell_type": "code",
   "execution_count": 51,
   "id": "c0df4cd3-545f-4ccc-a551-3054acefb4b8",
   "metadata": {},
   "outputs": [
    {
     "data": {
      "text/plain": [
       "['A', 'B', 'C']"
      ]
     },
     "execution_count": 51,
     "metadata": {},
     "output_type": "execute_result"
    }
   ],
   "source": [
    "list\n"
   ]
  },
  {
   "cell_type": "code",
   "execution_count": 53,
   "id": "75ec73f0-8dc9-4b3a-9c05-164f0738bcd4",
   "metadata": {},
   "outputs": [],
   "source": [
    "list.remove('A')"
   ]
  },
  {
   "cell_type": "code",
   "execution_count": 55,
   "id": "a2c4af89-6b51-44fb-b882-861ae731dd3c",
   "metadata": {},
   "outputs": [
    {
     "data": {
      "text/plain": [
       "['B', 'C']"
      ]
     },
     "execution_count": 55,
     "metadata": {},
     "output_type": "execute_result"
    }
   ],
   "source": [
    "list"
   ]
  },
  {
   "cell_type": "code",
   "execution_count": 57,
   "id": "2448cd52-427e-4826-af18-56ad08777ac0",
   "metadata": {},
   "outputs": [],
   "source": [
    "list=[]"
   ]
  },
  {
   "cell_type": "code",
   "execution_count": 59,
   "id": "00f5c2d3-e8fa-428c-8155-ec371b2c86b9",
   "metadata": {},
   "outputs": [
    {
     "name": "stdout",
     "output_type": "stream",
     "text": [
      "[0, 10, 20, 30, 40, 50, 60, 70, 80, 90, 100]\n"
     ]
    }
   ],
   "source": [
    "for i in range(101):\n",
    "    if i%10==0:\n",
    "        list.append(i)\n",
    "print(list)"
   ]
  },
  {
   "cell_type": "code",
   "execution_count": 61,
   "id": "95847e5c-e54e-4fc3-bafa-12d11a63d8ec",
   "metadata": {},
   "outputs": [],
   "source": [
    "list.insert(2,888)"
   ]
  },
  {
   "cell_type": "code",
   "execution_count": 63,
   "id": "ba2fb6e3-e859-40cc-b771-736396250df6",
   "metadata": {},
   "outputs": [
    {
     "data": {
      "text/plain": [
       "[0, 10, 888, 20, 30, 40, 50, 60, 70, 80, 90, 100]"
      ]
     },
     "execution_count": 63,
     "metadata": {},
     "output_type": "execute_result"
    }
   ],
   "source": [
    "list"
   ]
  },
  {
   "cell_type": "code",
   "execution_count": 65,
   "id": "d6d90fc4-b32c-4d16-ae4c-9384df1a2252",
   "metadata": {},
   "outputs": [],
   "source": [
    "list.insert(-3,7779)"
   ]
  },
  {
   "cell_type": "code",
   "execution_count": 67,
   "id": "f2b229e8-4231-440e-b758-2bcbd6fd8c89",
   "metadata": {},
   "outputs": [
    {
     "data": {
      "text/plain": [
       "[0, 10, 888, 20, 30, 40, 50, 60, 70, 7779, 80, 90, 100]"
      ]
     },
     "execution_count": 67,
     "metadata": {},
     "output_type": "execute_result"
    }
   ],
   "source": [
    "list"
   ]
  },
  {
   "cell_type": "code",
   "execution_count": 69,
   "id": "409bb303-865d-40a4-af87-7ecf24db7710",
   "metadata": {},
   "outputs": [
    {
     "ename": "NameError",
     "evalue": "name 'mj' is not defined",
     "output_type": "error",
     "traceback": [
      "\u001b[1;31m---------------------------------------------------------------------------\u001b[0m",
      "\u001b[1;31mNameError\u001b[0m                                 Traceback (most recent call last)",
      "Cell \u001b[1;32mIn[69], line 1\u001b[0m\n\u001b[1;32m----> 1\u001b[0m mj\u001b[38;5;241m.\u001b[39mextend(\u001b[38;5;28mlist\u001b[39m)\n",
      "\u001b[1;31mNameError\u001b[0m: name 'mj' is not defined"
     ]
    }
   ],
   "source": [
    "mj.extend(list)"
   ]
  },
  {
   "cell_type": "code",
   "execution_count": 71,
   "id": "20e6c24b-af82-47eb-b814-345bd6ae4ff0",
   "metadata": {},
   "outputs": [
    {
     "name": "stdout",
     "output_type": "stream",
     "text": [
      "['Chicken', 'Mutton', 'Fish', 'RC', 'KF', 'FO']\n"
     ]
    }
   ],
   "source": [
    "order1=[\"Chicken\",\"Mutton\",\"Fish\"]\n",
    "order2=[\"RC\",\"KF\",\"FO\"]\n",
    "order1.extend(order2)\n",
    "print(order1)"
   ]
  },
  {
   "cell_type": "code",
   "execution_count": 77,
   "id": "9c15cd49-8723-419c-91f9-0b79a96a3ae6",
   "metadata": {},
   "outputs": [
    {
     "data": {
      "text/plain": [
       "['Chicken',\n",
       " 'Mutton',\n",
       " 'Fish',\n",
       " 'RC',\n",
       " 'KF',\n",
       " 'FO',\n",
       " 'M',\n",
       " 'u',\n",
       " 's',\n",
       " 'h',\n",
       " 'r',\n",
       " 'o',\n",
       " 'o',\n",
       " 'm']"
      ]
     },
     "execution_count": 77,
     "metadata": {},
     "output_type": "execute_result"
    }
   ],
   "source": [
    "order1.extend(\"Mushroom\")\n",
    "order1"
   ]
  },
  {
   "cell_type": "code",
   "execution_count": 79,
   "id": "9c0d2fc2-9772-4ddb-9d93-2a3e15b75de0",
   "metadata": {},
   "outputs": [
    {
     "name": "stdout",
     "output_type": "stream",
     "text": [
      "['Chicken', 'Mutton', 'Fish', 'RC', 'KF', 'FO', 'M', 'u', 's', 'h', 'r', 'o', 'o', 'm']\n"
     ]
    }
   ],
   "source": [
    "print(order1)"
   ]
  },
  {
   "cell_type": "code",
   "execution_count": 81,
   "id": "f6b95c2d-99f4-46b3-99eb-c5a12d16417e",
   "metadata": {},
   "outputs": [
    {
     "name": "stdout",
     "output_type": "stream",
     "text": [
      "50\n"
     ]
    }
   ],
   "source": [
    "n=[10,20,30,40,50]\n",
    "print(n.pop())"
   ]
  },
  {
   "cell_type": "code",
   "execution_count": 83,
   "id": "96703706-8c61-47dd-a011-f8845a08f768",
   "metadata": {},
   "outputs": [
    {
     "name": "stdout",
     "output_type": "stream",
     "text": [
      "40\n"
     ]
    }
   ],
   "source": [
    "print(n.pop())"
   ]
  },
  {
   "cell_type": "code",
   "execution_count": 85,
   "id": "89076fb0-1f10-4ec5-b8ad-1771929d4ecf",
   "metadata": {},
   "outputs": [
    {
     "ename": "AttributeError",
     "evalue": "'list' object has no attribute 'push'",
     "output_type": "error",
     "traceback": [
      "\u001b[1;31m---------------------------------------------------------------------------\u001b[0m",
      "\u001b[1;31mAttributeError\u001b[0m                            Traceback (most recent call last)",
      "Cell \u001b[1;32mIn[85], line 1\u001b[0m\n\u001b[1;32m----> 1\u001b[0m n\u001b[38;5;241m.\u001b[39mpush(\u001b[38;5;241m1\u001b[39m)\n",
      "\u001b[1;31mAttributeError\u001b[0m: 'list' object has no attribute 'push'"
     ]
    }
   ],
   "source": [
    "n.push(1)"
   ]
  },
  {
   "cell_type": "code",
   "execution_count": 87,
   "id": "2868ab48-794d-45c0-aaf8-7c35e78c8080",
   "metadata": {},
   "outputs": [],
   "source": [
    "n.reverse()"
   ]
  },
  {
   "cell_type": "code",
   "execution_count": 89,
   "id": "1e6f5727-894c-44e1-81ff-0f12eb3c7ee1",
   "metadata": {},
   "outputs": [
    {
     "data": {
      "text/plain": [
       "[30, 20, 10]"
      ]
     },
     "execution_count": 89,
     "metadata": {},
     "output_type": "execute_result"
    }
   ],
   "source": [
    "n"
   ]
  },
  {
   "cell_type": "code",
   "execution_count": 91,
   "id": "fa745f71-a93b-4d19-a450-94192d97ad4a",
   "metadata": {},
   "outputs": [],
   "source": [
    "n.reverse()"
   ]
  },
  {
   "cell_type": "code",
   "execution_count": 93,
   "id": "61ee5451-9361-4774-9578-fcd4a1ef103b",
   "metadata": {},
   "outputs": [
    {
     "data": {
      "text/plain": [
       "[10, 20, 30]"
      ]
     },
     "execution_count": 93,
     "metadata": {},
     "output_type": "execute_result"
    }
   ],
   "source": [
    "n\n"
   ]
  },
  {
   "cell_type": "code",
   "execution_count": 95,
   "id": "72c6e174-1996-45bd-9c96-1e4ffc829c3e",
   "metadata": {},
   "outputs": [
    {
     "name": "stdout",
     "output_type": "stream",
     "text": [
      "[1, 4, 9, 16, 25, 36, 49, 64, 81, 100]\n"
     ]
    }
   ],
   "source": [
    "s=[x*x for x in range(1,11)]\n",
    "print(s)"
   ]
  },
  {
   "cell_type": "code",
   "execution_count": 97,
   "id": "0422cf4a-12e4-4dbc-80fc-1de3c8090c2c",
   "metadata": {},
   "outputs": [
    {
     "name": "stdout",
     "output_type": "stream",
     "text": [
      "[2, 4, 8, 16, 32]\n"
     ]
    }
   ],
   "source": [
    "v=[2**x for x in range(1,6)]\n",
    "print(v)"
   ]
  },
  {
   "cell_type": "code",
   "execution_count": 99,
   "id": "ca49cb75-9d02-42cb-9ca6-d4065cdd684b",
   "metadata": {},
   "outputs": [
    {
     "name": "stdout",
     "output_type": "stream",
     "text": [
      "[4, 16, 36, 64, 100]\n"
     ]
    }
   ],
   "source": [
    "m=[x for x in s if x%2==0]\n",
    "print(m)"
   ]
  },
  {
   "cell_type": "code",
   "execution_count": 101,
   "id": "9eac9e9a-506d-4b13-a3b2-a4817b230e48",
   "metadata": {},
   "outputs": [
    {
     "name": "stdin",
     "output_type": "stream",
     "text": [
      "Enter tupel of numbers: (10,20,30,40)\n"
     ]
    },
    {
     "name": "stdout",
     "output_type": "stream",
     "text": [
      "The sum= 100\n",
      "The average= 25.0\n"
     ]
    }
   ],
   "source": [
    "t=eval(input(\"Enter tupel of numbers:\"))\n",
    "l=len(t)\n",
    "sum=0\n",
    "for x in t:\n",
    "    sum += x\n",
    "print(\"The sum=\",sum)\n",
    "print(\"The average=\",sum/l)"
   ]
  },
  {
   "cell_type": "code",
   "execution_count": 103,
   "id": "c565c326-f635-4667-bd25-74d9382432e1",
   "metadata": {},
   "outputs": [],
   "source": [
    "def wish():\n",
    "    print(\"Hello Good Morning\")\n",
    "    "
   ]
  },
  {
   "cell_type": "code",
   "execution_count": 105,
   "id": "853d0b53-e2b4-4eec-ba7b-b526dc412152",
   "metadata": {},
   "outputs": [
    {
     "name": "stdout",
     "output_type": "stream",
     "text": [
      "Hello Good Morning\n",
      "Hello Good Morning\n",
      "Hello Good Morning\n",
      "Hello Good Morning\n"
     ]
    }
   ],
   "source": [
    "wish()\n",
    "wish()\n",
    "wish()\n",
    "wish()"
   ]
  },
  {
   "cell_type": "code",
   "execution_count": 107,
   "id": "7820e298-b1d5-4dd4-8dec-b6c5a92a7cc9",
   "metadata": {},
   "outputs": [
    {
     "name": "stdout",
     "output_type": "stream",
     "text": [
      "The square of 4 is 16\n",
      "The square of 88 is 7744\n"
     ]
    }
   ],
   "source": [
    "def squareit(number):\n",
    "    print(\"The square of\",number,\"is\",number*number)\n",
    "\n",
    "squareit(4)\n",
    "squareit(88)"
   ]
  },
  {
   "cell_type": "code",
   "execution_count": 113,
   "id": "e966e706-ed26-4a52-8d9c-41af5f957106",
   "metadata": {},
   "outputs": [
    {
     "name": "stdout",
     "output_type": "stream",
     "text": [
      "The sum is 30\n",
      "The sum is 110\n"
     ]
    }
   ],
   "source": [
    "def add(x,y):\n",
    "    return x+y\n",
    "    \n",
    "result=add(10,20)\n",
    "\n",
    "print(\"The sum is\",result)\n",
    "print(\"The sum is\",add(90,20))"
   ]
  },
  {
   "cell_type": "code",
   "execution_count": 117,
   "id": "6ec6da41-e8a1-49b4-a17a-a9818bbad8dd",
   "metadata": {},
   "outputs": [
    {
     "name": "stdout",
     "output_type": "stream",
     "text": [
      "Hello\n",
      "Hello\n",
      "None\n"
     ]
    }
   ],
   "source": [
    "def f1():\n",
    "    print(\"Hello\")\n",
    "\n",
    "f1()\n",
    "print(f1())"
   ]
  },
  {
   "cell_type": "code",
   "execution_count": 119,
   "id": "60b4f5cb-b22f-46fd-a374-7d57edd77351",
   "metadata": {},
   "outputs": [
    {
     "name": "stdout",
     "output_type": "stream",
     "text": [
      "20 is even number\n",
      "15 is odd number\n"
     ]
    }
   ],
   "source": [
    "def even_odd(num):\n",
    "    if num%2==0:\n",
    "        print(num,\"is even number\")\n",
    "    else:\n",
    "        print(num,\"is odd number\")\n",
    "\n",
    "even_odd(20)\n",
    "even_odd(15)"
   ]
  },
  {
   "cell_type": "code",
   "execution_count": 121,
   "id": "21ae5168-4b29-40dd-a04d-531d52f15da4",
   "metadata": {},
   "outputs": [
    {
     "name": "stdout",
     "output_type": "stream",
     "text": [
      "The factorial of 1 is: 1\n",
      "The factorial of 2 is: 2\n",
      "The factorial of 3 is: 6\n",
      "The factorial of 4 is: 24\n"
     ]
    }
   ],
   "source": [
    "#Write a function to find factorial of given number?\n",
    "\n",
    "def fact(num):\n",
    "    result=1\n",
    "    while num>=1:\n",
    "        result *= num\n",
    "        num=num-1\n",
    "    return result\n",
    "for i in range(1,5):\n",
    "    print(\"The factorial of\",i,\"is:\",fact(i))"
   ]
  },
  {
   "cell_type": "code",
   "execution_count": 125,
   "id": "8f4b7ff4-17c8-4220-98df-7c732754cf32",
   "metadata": {},
   "outputs": [
    {
     "name": "stdout",
     "output_type": "stream",
     "text": [
      "The sum is: 150\n",
      "The subtraction is: 50\n"
     ]
    }
   ],
   "source": [
    "def sum_sub(a,b):\n",
    "    sum=a+b\n",
    "    sub=a-b\n",
    "    return sum,sub\n",
    "x,y=sum_sub(100,50)\n",
    "print(\"The sum is:\",x)\n",
    "print(\"The subtraction is:\",y)"
   ]
  },
  {
   "cell_type": "code",
   "execution_count": 131,
   "id": "fa8828af-fe89-459b-bc86-561811d46fa5",
   "metadata": {},
   "outputs": [
    {
     "name": "stdout",
     "output_type": "stream",
     "text": [
      "The Result are\n",
      "150\n",
      "50\n",
      "5000\n",
      "2.0\n"
     ]
    }
   ],
   "source": [
    "def calc(a,b):\n",
    "    sum=a+b\n",
    "    sub=a-b\n",
    "    mul=a*b\n",
    "    div=a/b\n",
    "    return sum,sub,mul,div\n",
    "t=calc(100,50)\n",
    "print(\"The Result are\")\n",
    "for i in t:\n",
    "    print(i)"
   ]
  },
  {
   "cell_type": "code",
   "execution_count": 137,
   "id": "db503de5-865f-460a-ab8c-a0d1801b1f47",
   "metadata": {},
   "outputs": [
    {
     "name": "stdout",
     "output_type": "stream",
     "text": [
      "The sum= 0\n",
      "The sum= 10\n",
      "The sum= 30\n",
      "The sum= 104\n"
     ]
    }
   ],
   "source": [
    "def sum(*n):\n",
    "    total=0\n",
    "    for n1 in n:\n",
    "        total=total+n1\n",
    "    print(\"The sum=\",total)\n",
    "\n",
    "sum()\n",
    "sum(10)\n",
    "sum(10,20)\n",
    "sum(10,20,30,44)"
   ]
  },
  {
   "cell_type": "code",
   "execution_count": 139,
   "id": "3766d445-1500-4189-acad-cd00f1bd7f23",
   "metadata": {},
   "outputs": [
    {
     "name": "stdout",
     "output_type": "stream",
     "text": [
      "10\n",
      "10\n",
      "2\n",
      "30\n",
      "40\n",
      "10\n",
      "A\n",
      "30\n",
      "B\n"
     ]
    }
   ],
   "source": [
    "def f1(n1,*s):\n",
    "    print(n1)\n",
    "    for s1 in s:\n",
    "        print(s1)\n",
    "\n",
    "f1(10)\n",
    "f1(10,2,30,40)\n",
    "f1(10,\"A\",30,\"B\")"
   ]
  },
  {
   "cell_type": "code",
   "execution_count": 143,
   "id": "e2dee401-e471-4ebb-90c8-6c2b4215826f",
   "metadata": {},
   "outputs": [
    {
     "name": "stdout",
     "output_type": "stream",
     "text": [
      "A\n",
      "B\n",
      "10\n"
     ]
    }
   ],
   "source": [
    "def f1(*s,n1):\n",
    "    for s1 in s:\n",
    "        print(s1)\n",
    "    print(n1)\n",
    "\n",
    "f1(\"A\",\"B\",n1=10)"
   ]
  },
  {
   "cell_type": "code",
   "execution_count": 145,
   "id": "02a0f7d4-1da6-490b-9db3-846395caae80",
   "metadata": {},
   "outputs": [
    {
     "name": "stdout",
     "output_type": "stream",
     "text": [
      "n1 = 10\n",
      "n2 = 20\n",
      "n3 = 30\n",
      "rno = 100\n",
      "name = Durga\n",
      "marks = 70\n",
      "subject = Java\n"
     ]
    }
   ],
   "source": [
    "def display(**kwargs):\n",
    "    for k,v in kwargs.items():\n",
    "        print(k,\"=\",v)\n",
    "display(n1=10,n2=20,n3=30)\n",
    "display(rno=100,name=\"Durga\",marks=70,subject=\"Java\")\n"
   ]
  },
  {
   "cell_type": "code",
   "execution_count": 147,
   "id": "e115b575-a56a-4c6f-ac75-fa01ab55071a",
   "metadata": {},
   "outputs": [
    {
     "name": "stdout",
     "output_type": "stream",
     "text": [
      "10\n",
      "10\n"
     ]
    }
   ],
   "source": [
    "a=10 #global variable\n",
    "def f1():\n",
    "    print(a)\n",
    "\n",
    "def f2():\n",
    "    print(a)\n",
    "\n",
    "f1()\n",
    "f2()"
   ]
  },
  {
   "cell_type": "code",
   "execution_count": 153,
   "id": "f78ea1f3-edab-44a2-a846-c30053caacbe",
   "metadata": {},
   "outputs": [
    {
     "name": "stdout",
     "output_type": "stream",
     "text": [
      "10\n"
     ]
    },
    {
     "ename": "NameError",
     "evalue": "name 'd' is not defined",
     "output_type": "error",
     "traceback": [
      "\u001b[1;31m---------------------------------------------------------------------------\u001b[0m",
      "\u001b[1;31mNameError\u001b[0m                                 Traceback (most recent call last)",
      "Cell \u001b[1;32mIn[153], line 10\u001b[0m\n\u001b[0;32m      7\u001b[0m     \u001b[38;5;28mprint\u001b[39m(d) \u001b[38;5;66;03m#invalid\u001b[39;00m\n\u001b[0;32m      9\u001b[0m f1()\n\u001b[1;32m---> 10\u001b[0m f2()\n",
      "Cell \u001b[1;32mIn[153], line 7\u001b[0m, in \u001b[0;36mf2\u001b[1;34m()\u001b[0m\n\u001b[0;32m      6\u001b[0m \u001b[38;5;28;01mdef\u001b[39;00m \u001b[38;5;21mf2\u001b[39m():\n\u001b[1;32m----> 7\u001b[0m     \u001b[38;5;28mprint\u001b[39m(d)\n",
      "\u001b[1;31mNameError\u001b[0m: name 'd' is not defined"
     ]
    }
   ],
   "source": [
    "#Local Variable\n",
    "def f1():\n",
    "    d=10\n",
    "    print(d) #valid\n",
    "\n",
    "def f2():\n",
    "    print(d) #invalid\n",
    "\n",
    "f1()\n",
    "f2()"
   ]
  },
  {
   "cell_type": "code",
   "execution_count": 191,
   "id": "1466cd44-dc14-49b7-a72a-8fcb15f4e540",
   "metadata": {},
   "outputs": [
    {
     "name": "stdout",
     "output_type": "stream",
     "text": [
      "10\n",
      "10\n",
      "777\n"
     ]
    }
   ],
   "source": [
    "aa=10\n",
    "print(aa)\n",
    "\n",
    "def f2():\n",
    "    print(aa)\n",
    "    \n",
    "def f1():\n",
    "    aa=777\n",
    "    print(aa)\n",
    "    \n",
    "f2()\n",
    "f1()"
   ]
  },
  {
   "cell_type": "code",
   "execution_count": 187,
   "id": "0ab07c08-8643-4af3-ab9d-128cfb3526b1",
   "metadata": {},
   "outputs": [
    {
     "name": "stdout",
     "output_type": "stream",
     "text": [
      "777\n",
      "777\n"
     ]
    }
   ],
   "source": [
    "a2=10\n",
    "\n",
    "def f11():\n",
    "    global a2\n",
    "    a2=777\n",
    "    print(a2)\n",
    "\n",
    "def f22():\n",
    "    print(a2)\n",
    "f11()\n",
    "f22()"
   ]
  },
  {
   "cell_type": "code",
   "execution_count": 193,
   "id": "6b90f702-4a70-4fc5-81dc-9b98d6f2cd90",
   "metadata": {},
   "outputs": [
    {
     "name": "stdout",
     "output_type": "stream",
     "text": [
      "10\n"
     ]
    },
    {
     "ename": "NameError",
     "evalue": "name 'a3' is not defined",
     "output_type": "error",
     "traceback": [
      "\u001b[1;31m---------------------------------------------------------------------------\u001b[0m",
      "\u001b[1;31mNameError\u001b[0m                                 Traceback (most recent call last)",
      "Cell \u001b[1;32mIn[193], line 9\u001b[0m\n\u001b[0;32m      6\u001b[0m     \u001b[38;5;28mprint\u001b[39m(a3)\n\u001b[0;32m      8\u001b[0m f1()\n\u001b[1;32m----> 9\u001b[0m f2()\n",
      "Cell \u001b[1;32mIn[193], line 6\u001b[0m, in \u001b[0;36mf2\u001b[1;34m()\u001b[0m\n\u001b[0;32m      5\u001b[0m \u001b[38;5;28;01mdef\u001b[39;00m \u001b[38;5;21mf2\u001b[39m():\n\u001b[1;32m----> 6\u001b[0m     \u001b[38;5;28mprint\u001b[39m(a3)\n",
      "\u001b[1;31mNameError\u001b[0m: name 'a3' is not defined"
     ]
    }
   ],
   "source": [
    "def f1():\n",
    "    a3=10\n",
    "    print(a3)\n",
    "\n",
    "def f2():\n",
    "    print(a3)\n",
    "\n",
    "f1()\n",
    "f2()"
   ]
  },
  {
   "cell_type": "code",
   "execution_count": 195,
   "id": "fd18f5f2-4c73-40c5-a414-276c3a37bf91",
   "metadata": {},
   "outputs": [
    {
     "name": "stdout",
     "output_type": "stream",
     "text": [
      "10\n",
      "10\n"
     ]
    }
   ],
   "source": [
    "def f12():\n",
    "    global a4\n",
    "    a4=10\n",
    "    print(a4)\n",
    "\n",
    "def f22():\n",
    "    print(a)\n",
    "\n",
    "f12()\n",
    "f22()"
   ]
  },
  {
   "cell_type": "code",
   "execution_count": null,
   "id": "7b00e832-f6b0-4c2b-ba08-9aef88ac55a1",
   "metadata": {},
   "outputs": [],
   "source": []
  }
 ],
 "metadata": {
  "kernelspec": {
   "display_name": "Python 3 (ipykernel)",
   "language": "python",
   "name": "python3"
  },
  "language_info": {
   "codemirror_mode": {
    "name": "ipython",
    "version": 3
   },
   "file_extension": ".py",
   "mimetype": "text/x-python",
   "name": "python",
   "nbconvert_exporter": "python",
   "pygments_lexer": "ipython3",
   "version": "3.12.4"
  }
 },
 "nbformat": 4,
 "nbformat_minor": 5
}
