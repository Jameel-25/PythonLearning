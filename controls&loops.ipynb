{
 "cells": [
  {
   "cell_type": "code",
   "execution_count": 10,
   "id": "dc5ce06e-f5da-41f8-bc42-47ccfdd2e550",
   "metadata": {},
   "outputs": [
    {
     "name": "stdout",
     "output_type": "stream",
     "text": [
      "Positive\n"
     ]
    }
   ],
   "source": [
    "#if-elif-else\n",
    "#check if a number is positive , negative or zero\n",
    "num = 10\n",
    "if num >0:\n",
    "    print(\"Positive\")\n",
    "elif num <0:\n",
    "    print(\"Negative\")\n",
    "else:\n",
    "    print(\"Zero\")"
   ]
  },
  {
   "cell_type": "code",
   "execution_count": 14,
   "id": "2f39b717-4201-4f61-91be-c0234c1b41c4",
   "metadata": {},
   "outputs": [
    {
     "name": "stdout",
     "output_type": "stream",
     "text": [
      "Eligible to vote\n"
     ]
    }
   ],
   "source": [
    "#Check if a person is eligible to vote or not\n",
    "age=29\n",
    "if age>=18:\n",
    "    print(\"Eligible to vote\")\n",
    "else:\n",
    "    print(\"Not eligible to vote\")"
   ]
  },
  {
   "cell_type": "code",
   "execution_count": 22,
   "id": "af91e225-6b67-4a0d-a29f-a99938a452a8",
   "metadata": {},
   "outputs": [
    {
     "name": "stdout",
     "output_type": "stream",
     "text": [
      "1\n",
      "2\n",
      "3\n",
      "4\n",
      "5\n",
      "6\n",
      "7\n",
      "8\n",
      "9\n",
      "10\n"
     ]
    }
   ],
   "source": [
    "#while loop\n",
    "#print numbers from 1 ot 5 using while loop\n",
    "count =1\n",
    "while count<=10:\n",
    "    print(count)\n",
    "    count +=1"
   ]
  },
  {
   "cell_type": "code",
   "execution_count": 27,
   "id": "89072294-fe45-4602-ac2d-0431fc2030e7",
   "metadata": {},
   "outputs": [
    {
     "name": "stdout",
     "output_type": "stream",
     "text": [
      "Factorial 5040\n"
     ]
    }
   ],
   "source": [
    "#Calculate the factorial of a number using a while loop\n",
    "n=7 # 5*4*3*2*1\n",
    "factorial=1\n",
    "while n>0:\n",
    "    factorial *= n\n",
    "    n -= 1\n",
    "\n",
    "print(\"Factorial\",factorial)"
   ]
  },
  {
   "cell_type": "code",
   "execution_count": 29,
   "id": "43fdaa1e-c3b1-48a9-b4d7-abc4503aaecd",
   "metadata": {},
   "outputs": [
    {
     "name": "stdout",
     "output_type": "stream",
     "text": [
      "red\n",
      "green\n",
      "blure\n"
     ]
    }
   ],
   "source": [
    "#for loop\n",
    "# iterate over a list of colors\n",
    "colors = [\"red\",\"green\",\"blure\"]\n",
    "for color in colors:\n",
    "    print(color)"
   ]
  },
  {
   "cell_type": "code",
   "execution_count": 31,
   "id": "6e7708a5-07df-4bfd-9d34-3c2c64b10fcf",
   "metadata": {},
   "outputs": [
    {
     "name": "stdout",
     "output_type": "stream",
     "text": [
      "Sum: 15\n"
     ]
    }
   ],
   "source": [
    "#calculate the sum of numbers from 1 to 5 using a for loop\n",
    "sum_result = 0\n",
    "for i in range(1,6):\n",
    "    sum_result += i\n",
    "print(\"Sum:\",sum_result)"
   ]
  },
  {
   "cell_type": "code",
   "execution_count": null,
   "id": "e105d160-90fc-4090-a5c9-03d5212aec89",
   "metadata": {},
   "outputs": [],
   "source": []
  }
 ],
 "metadata": {
  "kernelspec": {
   "display_name": "Python 3 (ipykernel)",
   "language": "python",
   "name": "python3"
  },
  "language_info": {
   "codemirror_mode": {
    "name": "ipython",
    "version": 3
   },
   "file_extension": ".py",
   "mimetype": "text/x-python",
   "name": "python",
   "nbconvert_exporter": "python",
   "pygments_lexer": "ipython3",
   "version": "3.11.7"
  }
 },
 "nbformat": 4,
 "nbformat_minor": 5
}
