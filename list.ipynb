{
 "cells": [
  {
   "cell_type": "code",
   "execution_count": 7,
   "id": "2b33dd16-23b3-4fa9-a1a4-0b9aa61837bf",
   "metadata": {},
   "outputs": [],
   "source": [
    "my_list=[1,2,3,4,5]"
   ]
  },
  {
   "cell_type": "code",
   "execution_count": 9,
   "id": "b0d21778-2c00-4cd9-b833-712a3958c9ea",
   "metadata": {},
   "outputs": [],
   "source": [
    "length=len(my_list)"
   ]
  },
  {
   "cell_type": "code",
   "execution_count": 11,
   "id": "7273bfb3-fcd8-4114-b258-d7deb08ffb86",
   "metadata": {},
   "outputs": [
    {
     "name": "stdout",
     "output_type": "stream",
     "text": [
      "Length 5\n"
     ]
    }
   ],
   "source": [
    "print(\"Length\",length)"
   ]
  },
  {
   "cell_type": "code",
   "execution_count": 13,
   "id": "bc1e2240-49d3-401f-91fb-aed047bcd16f",
   "metadata": {},
   "outputs": [
    {
     "name": "stdout",
     "output_type": "stream",
     "text": [
      "New My_list [1, 2, 3, 5]\n"
     ]
    }
   ],
   "source": [
    "#list.append(item)\n",
    "my_list=[1,2,3]\n",
    "my_list.append(5)\n",
    "print(\"New My_list\",my_list)"
   ]
  },
  {
   "cell_type": "code",
   "execution_count": 17,
   "id": "20640c14-d923-4782-b69e-80a38d0e7026",
   "metadata": {},
   "outputs": [
    {
     "name": "stdout",
     "output_type": "stream",
     "text": [
      "[4, 1, 2, 3]\n"
     ]
    }
   ],
   "source": [
    "#list.insert(index,item)\n",
    "my_list=[1,2,3]\n",
    "my_list.insert(0,4)\n",
    "print(my_list)"
   ]
  },
  {
   "cell_type": "code",
   "execution_count": 19,
   "id": "e9506999-37d4-4d1c-8f5c-adb57dad69c7",
   "metadata": {},
   "outputs": [
    {
     "name": "stdout",
     "output_type": "stream",
     "text": [
      "[1, 3, 4]\n"
     ]
    }
   ],
   "source": [
    "#list_remove(tiem)\n",
    "my_list=[1,2,3,4]\n",
    "my_list.remove(2)\n",
    "print(my_list)"
   ]
  },
  {
   "cell_type": "code",
   "execution_count": 21,
   "id": "a824794a-b084-44a3-a5f5-2d86ed094c43",
   "metadata": {},
   "outputs": [
    {
     "name": "stdout",
     "output_type": "stream",
     "text": [
      "[1, 3, 4]\n"
     ]
    }
   ],
   "source": [
    "#list.pop(index)\n",
    "my_list=[1,2,3,4]\n",
    "my_list.pop(1)\n",
    "print(my_list)"
   ]
  },
  {
   "cell_type": "code",
   "execution_count": 27,
   "id": "ddf43c56-b8fe-4efb-98f4-60620a7e72c1",
   "metadata": {},
   "outputs": [
    {
     "name": "stdout",
     "output_type": "stream",
     "text": [
      "Sort [1, 2, 3, 4]\n"
     ]
    }
   ],
   "source": [
    "#list.sort()\n",
    "my_list=[4,1,3,2]\n",
    "my_list.sort()\n",
    "print(\"Sort\",my_list)"
   ]
  },
  {
   "cell_type": "code",
   "execution_count": 25,
   "id": "530b5e62-846a-4d28-8c34-5d1bbdfe8b0e",
   "metadata": {},
   "outputs": [
    {
     "name": "stdout",
     "output_type": "stream",
     "text": [
      "Reverse [4, 3, 2, 1]\n"
     ]
    }
   ],
   "source": [
    "#list_reverse\n",
    "my_list=[1,2,3,4]\n",
    "my_list.reverse()\n",
    "print(\"Reverse\",my_list)"
   ]
  },
  {
   "cell_type": "code",
   "execution_count": 31,
   "id": "4d6e6e00-dc35-4784-9e62-0d4f32b6cccd",
   "metadata": {},
   "outputs": [
    {
     "name": "stdout",
     "output_type": "stream",
     "text": [
      "['Apple', 'Banana', 'Cherry']\n",
      "['Apple', 'Banana', 'Cherry', 'Orange']\n",
      "['Apple', 'Mango', 'Banana', 'Cherry', 'Orange']\n",
      "['Apple', 'Mango', 'Cherry', 'Orange']\n",
      "['Apple', 'Mango', 'Orange']\n",
      "['Apple', 'Mango', 'Orange']\n",
      "['Orange', 'Mango', 'Apple']\n"
     ]
    }
   ],
   "source": [
    "fruits=[\"Apple\",\"Banana\",\"Cherry\"]\n",
    "print(fruits)\n",
    "fruits.append(\"Orange\")\n",
    "print(fruits)\n",
    "fruits.insert(1,\"Mango\")\n",
    "print(fruits)\n",
    "fruits.remove(\"Banana\")\n",
    "print(fruits)\n",
    "fruits.pop(2)\n",
    "print(fruits)\n",
    "fruits.sort()\n",
    "print(fruits)\n",
    "fruits.reverse()\n",
    "print(fruits)"
   ]
  },
  {
   "cell_type": "code",
   "execution_count": null,
   "id": "d9be88ab-8acd-48e8-aafb-727b1c996869",
   "metadata": {},
   "outputs": [],
   "source": []
  }
 ],
 "metadata": {
  "kernelspec": {
   "display_name": "Python 3 (ipykernel)",
   "language": "python",
   "name": "python3"
  },
  "language_info": {
   "codemirror_mode": {
    "name": "ipython",
    "version": 3
   },
   "file_extension": ".py",
   "mimetype": "text/x-python",
   "name": "python",
   "nbconvert_exporter": "python",
   "pygments_lexer": "ipython3",
   "version": "3.11.7"
  }
 },
 "nbformat": 4,
 "nbformat_minor": 5
}
