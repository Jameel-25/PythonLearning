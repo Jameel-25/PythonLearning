{
 "cells": [
  {
   "cell_type": "code",
   "execution_count": 4,
   "id": "190df3fd-4048-4dba-878e-4dafe8484f93",
   "metadata": {},
   "outputs": [
    {
     "name": "stdout",
     "output_type": "stream",
     "text": [
      "3\n"
     ]
    }
   ],
   "source": [
    "#Dictonaries\n",
    "#len(dictionary)\n",
    "categories_dict={\"fruits\":\"apples\",\"color\":\"red\",\"shape\":\"round\"}\n",
    "result=len(categories_dict)\n",
    "print(result)"
   ]
  },
  {
   "cell_type": "code",
   "execution_count": 22,
   "id": "bb2c9196-415f-4472-ae21-e07b9612e271",
   "metadata": {},
   "outputs": [
    {
     "name": "stdout",
     "output_type": "stream",
     "text": [
      "['fruits', 'color', 'shape']\n"
     ]
    }
   ],
   "source": [
    "#dictionary.keys()\n",
    "dit={\"fruits\":\"apples\",\"color\":\"red\",\"shape\":\"round\"}\n",
    "key=list(dit.keys())\n",
    "print(key)"
   ]
  },
  {
   "cell_type": "code",
   "execution_count": 24,
   "id": "9d472e3e-a1fd-4151-a0a4-8a47a7a89bf7",
   "metadata": {},
   "outputs": [
    {
     "name": "stdout",
     "output_type": "stream",
     "text": [
      "['apples', 'red', 'round']\n"
     ]
    }
   ],
   "source": [
    "#values\n",
    "dit={\"fruits\":\"apples\",\"color\":\"red\",\"shape\":\"round\"}\n",
    "key=list(dit.values())\n",
    "print(key)"
   ]
  },
  {
   "cell_type": "code",
   "execution_count": 26,
   "id": "83e45f05-d92e-4b9c-afe6-4c9f2ab0e32e",
   "metadata": {},
   "outputs": [
    {
     "name": "stdout",
     "output_type": "stream",
     "text": [
      "[('fruits', 'apples'), ('color', 'red'), ('shape', 'round')]\n"
     ]
    }
   ],
   "source": [
    "#items\n",
    "dit={\"fruits\":\"apples\",\"color\":\"red\",\"shape\":\"round\"}\n",
    "key=list(dit.items())\n",
    "print(key)"
   ]
  },
  {
   "cell_type": "code",
   "execution_count": 28,
   "id": "1f818888-afe2-4b0f-8f83-786870519c33",
   "metadata": {},
   "outputs": [
    {
     "name": "stdout",
     "output_type": "stream",
     "text": [
      "apples\n"
     ]
    }
   ],
   "source": [
    "#get\n",
    "dit={\"fruits\":\"apples\",\"color\":\"red\",\"shape\":\"round\"}\n",
    "gett=dit.get(\"fruits\")\n",
    "print(gett)"
   ]
  },
  {
   "cell_type": "code",
   "execution_count": 30,
   "id": "bfdea9ba-5759-4d07-a3d1-de3f53cdfdfe",
   "metadata": {},
   "outputs": [
    {
     "name": "stdout",
     "output_type": "stream",
     "text": [
      "red\n"
     ]
    }
   ],
   "source": [
    "#get\n",
    "dit={\"fruits\":\"apples\",\"color\":\"red\",\"shape\":\"round\"}\n",
    "gett=dit.get(\"color\")\n",
    "print(gett)"
   ]
  },
  {
   "cell_type": "code",
   "execution_count": 32,
   "id": "f266ebb4-7e16-436f-8640-5ebfcb597c84",
   "metadata": {},
   "outputs": [
    {
     "name": "stdout",
     "output_type": "stream",
     "text": [
      "None\n"
     ]
    }
   ],
   "source": [
    "#get\n",
    "dit={\"fruits\":\"apples\",\"color\":\"red\",\"shape\":\"round\"}\n",
    "gett=dit.get(\"banana\")\n",
    "print(gett)"
   ]
  },
  {
   "cell_type": "code",
   "execution_count": 36,
   "id": "07567cd5-b876-4c9b-bb8b-170058de3d7a",
   "metadata": {},
   "outputs": [
    {
     "name": "stdout",
     "output_type": "stream",
     "text": [
      "red\n"
     ]
    }
   ],
   "source": [
    "#pop\n",
    "#get\n",
    "dit={\"fruits\":\"apples\",\"color\":\"red\",\"shape\":\"round\"}\n",
    "remove_color=dit.pop(\"color\")\n",
    "print(remove_color)"
   ]
  },
  {
   "cell_type": "code",
   "execution_count": null,
   "id": "10a3a6e1-334c-498f-b9af-c82d74a47ab8",
   "metadata": {},
   "outputs": [],
   "source": []
  }
 ],
 "metadata": {
  "kernelspec": {
   "display_name": "Python 3 (ipykernel)",
   "language": "python",
   "name": "python3"
  },
  "language_info": {
   "codemirror_mode": {
    "name": "ipython",
    "version": 3
   },
   "file_extension": ".py",
   "mimetype": "text/x-python",
   "name": "python",
   "nbconvert_exporter": "python",
   "pygments_lexer": "ipython3",
   "version": "3.11.7"
  }
 },
 "nbformat": 4,
 "nbformat_minor": 5
}
