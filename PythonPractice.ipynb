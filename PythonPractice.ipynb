{
 "cells": [
  {
   "cell_type": "code",
   "execution_count": 1,
   "id": "e57e8417-922e-4199-878a-df4a1158bd20",
   "metadata": {},
   "outputs": [
    {
     "name": "stdout",
     "output_type": "stream",
     "text": [
      "two-arg method\n"
     ]
    }
   ],
   "source": [
    "# Method Overloading\n",
    "class Test:\n",
    "    def m1(self):\n",
    "        print('no-arg method')\n",
    "    def m1(self,a):\n",
    "        print('one-arg method')\n",
    "    def m1(self,a,b):\n",
    "        print('two-arg method')\n",
    "\n",
    "t=Test()\n",
    "#t.m1()\n",
    "#t.m1(10)\n",
    "t.m1(10,20)"
   ]
  },
  {
   "cell_type": "code",
   "execution_count": 3,
   "id": "60457bd9-cd90-40dc-91d4-21cd3d0924c4",
   "metadata": {},
   "outputs": [
    {
     "name": "stdout",
     "output_type": "stream",
     "text": [
      "The sume of 2 numbers: 30\n",
      "The sum of 3 numbers: 60\n",
      "Please provide 2 or 3 arguments\n"
     ]
    }
   ],
   "source": [
    "# Demo Program with default arguments\n",
    "class Test:\n",
    "    def sum(self,a=None,b=None,c=None):\n",
    "        if a!=None and b!=None and c!=None:\n",
    "            print('The sum of 3 numbers:',a+b+c)\n",
    "        elif a!=None and b!=None:\n",
    "            print('The sume of 2 numbers:',a+b)\n",
    "        else:\n",
    "            print('Please provide 2 or 3 arguments')\n",
    "\n",
    "t=Test()\n",
    "t.sum(10,20)\n",
    "t.sum(10,20,30)\n",
    "t.sum(10)"
   ]
  },
  {
   "cell_type": "code",
   "execution_count": 5,
   "id": "9db83a6f-03e6-465d-871a-7ad15440e81c",
   "metadata": {},
   "outputs": [
    {
     "name": "stdout",
     "output_type": "stream",
     "text": [
      "The sum: 30\n",
      "The sum: 60\n",
      "The sum: 10\n",
      "The sum: 0\n"
     ]
    }
   ],
   "source": [
    "# Program with variable number of arguments\n",
    "class Test:\n",
    "    def sum(self,*a):\n",
    "        total=0\n",
    "        for x in a:\n",
    "            total=total+x\n",
    "        print('The sum:',total)\n",
    "\n",
    "t=Test()\n",
    "t.sum(10,20)\n",
    "t.sum(10,20,30)\n",
    "t.sum(10)\n",
    "t.sum()"
   ]
  },
  {
   "cell_type": "code",
   "execution_count": 13,
   "id": "ecbff930-7d35-4e12-b81b-60155fbcb9de",
   "metadata": {},
   "outputs": [
    {
     "name": "stdout",
     "output_type": "stream",
     "text": [
      "Two-Arg Constructor\n"
     ]
    }
   ],
   "source": [
    "# constructor overloading\n",
    "class Test:\n",
    "    def __init__(self):\n",
    "      print('No-Arg Constructor')\n",
    "\n",
    "    def __init__(self,a):\n",
    "      print('One-Arg Constructor')\n",
    "    def __init__(self,a,b):\n",
    "      print('Two-Arg Constructor')\n",
    "\n",
    "#t=Test()\n",
    "#t2=Test(10)\n",
    "t3=Test(10,20)"
   ]
  },
  {
   "cell_type": "code",
   "execution_count": 19,
   "id": "963c0bc4-abce-426e-a4a7-00cb4922a3af",
   "metadata": {},
   "outputs": [
    {
     "name": "stdout",
     "output_type": "stream",
     "text": [
      "Constructor with 0|1|2|3 number of arguments\n",
      "Constructor with 0|1|2|3 number of arguments\n",
      "Constructor with 0|1|2|3 number of arguments\n",
      "Constructor with 0|1|2|3 number of arguments\n"
     ]
    }
   ],
   "source": [
    "# Constructor with default arguments:\n",
    "class Test:\n",
    "    def __init__(self,a=None,b=None,c=None):\n",
    "        print('Constructor with 0|1|2|3 number of arguments')\n",
    "\n",
    "t1=Test()\n",
    "t2=Test(10)\n",
    "t3=Test(10,20)\n",
    "t4=Test(10,20,30)"
   ]
  },
  {
   "cell_type": "code",
   "execution_count": 21,
   "id": "7a4434e3-5607-4ba5-9b49-50e532701a2a",
   "metadata": {},
   "outputs": [
    {
     "name": "stdout",
     "output_type": "stream",
     "text": [
      "Constructor with 0|1|2|3 number of arguments\n",
      "Constructor with 0|1|2|3 number of arguments\n",
      "Constructor with 0|1|2|3 number of arguments\n",
      "Constructor with 0|1|2|3 number of arguments\n"
     ]
    }
   ],
   "source": [
    "# Constructor with variable number of arguments\n",
    "class Test:\n",
    "    def __init__(self,*a):\n",
    "        print('Constructor with 0|1|2|3 number of arguments')\n",
    "\n",
    "t1=Test()\n",
    "t2=Test(10)\n",
    "t3=Test(10,20)\n",
    "t4=Test(10,20,30)"
   ]
  },
  {
   "cell_type": "code",
   "execution_count": 23,
   "id": "4df38624-56c5-4076-9ab2-fbc206ff4771",
   "metadata": {},
   "outputs": [
    {
     "name": "stdout",
     "output_type": "stream",
     "text": [
      "Gold+Land+Cash+Power\n",
      "Monn\n"
     ]
    }
   ],
   "source": [
    "# Method Overriding\n",
    "# Whatever members available in the parent class are by default available to the child class through\n",
    "# inheritance. If the child class not satisfied with parent class implementation then child class is\n",
    "# allowed to redefine that method in the child class based on its requirement. This concept is called\n",
    "# overriding\n",
    "# Overriding concept applicable for both method and constructors.\n",
    "\n",
    "# Proram for method overriding:\n",
    "\n",
    "class P:\n",
    "    def property(self):\n",
    "        print('Gold+Land+Cash+Power')\n",
    "    def marr(self):\n",
    "        print('Appalamma')\n",
    "class C(P):\n",
    "    def marry(self):\n",
    "        print('Monn')\n",
    "\n",
    "c=C()\n",
    "c.property()\n",
    "c.marry()"
   ]
  },
  {
   "cell_type": "code",
   "execution_count": 25,
   "id": "4b4914e4-2453-41a3-a6e3-49bd99c100c0",
   "metadata": {},
   "outputs": [
    {
     "name": "stdout",
     "output_type": "stream",
     "text": [
      "Gold+Land+Cash+Power\n",
      "Appalamma\n",
      "Monn\n"
     ]
    }
   ],
   "source": [
    "class P:\n",
    "    def property(self):\n",
    "        print('Gold+Land+Cash+Power')\n",
    "    def marry(self):\n",
    "        print('Appalamma')\n",
    "\n",
    "class C(P):\n",
    "    def marry(self):\n",
    "        super().marry()\n",
    "        print('Monn')\n",
    "\n",
    "c=C()\n",
    "c.property()\n",
    "c.marry()"
   ]
  },
  {
   "cell_type": "code",
   "execution_count": 27,
   "id": "0362fbf2-126b-41b8-ba3e-6c94afdb3a70",
   "metadata": {},
   "outputs": [
    {
     "name": "stdout",
     "output_type": "stream",
     "text": [
      "Child Constructor\n"
     ]
    }
   ],
   "source": [
    "# Program for constructor overriding\n",
    "class P:\n",
    "    def __init__(self):\n",
    "        print('Parent Constructor')\n",
    "\n",
    "class C(P):\n",
    "    def __init__(self):\n",
    "        print('Child Constructor')\n",
    "\n",
    "c=C()"
   ]
  },
  {
   "cell_type": "code",
   "execution_count": 38,
   "id": "6de89368-ff48-4c3f-80da-dc9b77f72da1",
   "metadata": {},
   "outputs": [
    {
     "name": "stdout",
     "output_type": "stream",
     "text": [
      "Employee Name: Durga\n",
      "Employee Age: 48\n",
      "Employee Number: 872425\n",
      "Employee Salary: 26000\n",
      "Employee Name: Sunny\n",
      "Employee Age: 39\n",
      "Employee Number: 872426\n",
      "Employee Salary: 36000\n"
     ]
    }
   ],
   "source": [
    "class Person:\n",
    "    def __init__(self,name,age):\n",
    "        self.name=name\n",
    "        self.age=age\n",
    "\n",
    "class Employee(Person):\n",
    "    def __init__(self,name,age,eno,esal):\n",
    "        super().__init__(name,age)\n",
    "        self.eno=eno\n",
    "        self.esal=esal\n",
    "    def display(self):\n",
    "         print(\"Employee Name:\",self.name)\n",
    "         print(\"Employee Age:\",self.age)\n",
    "         print(\"Employee Number:\",self.eno)\n",
    "         print(\"Employee Salary:\",self.esal)\n",
    "\n",
    "e1=Employee('Durga',48,872425,26000)\n",
    "e1.display()\n",
    "e2=Employee('Sunny',39,872426,36000)\n",
    "e2.display()"
   ]
  }
 ],
 "metadata": {
  "kernelspec": {
   "display_name": "Python 3 (ipykernel)",
   "language": "python",
   "name": "python3"
  },
  "language_info": {
   "codemirror_mode": {
    "name": "ipython",
    "version": 3
   },
   "file_extension": ".py",
   "mimetype": "text/x-python",
   "name": "python",
   "nbconvert_exporter": "python",
   "pygments_lexer": "ipython3",
   "version": "3.12.4"
  }
 },
 "nbformat": 4,
 "nbformat_minor": 5
}
