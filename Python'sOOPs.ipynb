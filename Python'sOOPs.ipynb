{
 "cells": [
  {
   "cell_type": "code",
   "execution_count": 3,
   "id": "cee487f4-36ab-4a3f-a667-92298035e918",
   "metadata": {},
   "outputs": [
    {
     "name": "stdout",
     "output_type": "stream",
     "text": [
      "This is student class with required data\n",
      "Help on class Student in module __main__:\n",
      "\n",
      "class Student(builtins.object)\n",
      " |  This is student class with required data\n",
      " |\n",
      " |  Data descriptors defined here:\n",
      " |\n",
      " |  __dict__\n",
      " |      dictionary for instance variables\n",
      " |\n",
      " |  __weakref__\n",
      " |      list of weak references to the object\n",
      "\n"
     ]
    }
   ],
   "source": [
    "class Student:\n",
    "    \"\"\"This is student class with required data\"\"\"\n",
    "print(Student.__doc__)\n",
    "help(Student)"
   ]
  },
  {
   "cell_type": "code",
   "execution_count": 7,
   "id": "dcb0ebb6-9e58-4d83-a2d7-7eb6fe22cb87",
   "metadata": {},
   "outputs": [],
   "source": [
    "class Student:\n",
    "    \"\"\"Developed by Jameel for python demo\"\"\"\n",
    "    def __init__(self):\n",
    "        self.name=\"Jameel\"\n",
    "        self.age=50\n",
    "        self.marks=90\n",
    "\n",
    "    def takl(self):\n",
    "        print(\"Hello I am :\",self.name)\n",
    "        print(\"My age is :\",self.age)\n",
    "        print(\"My Marks is :\",self.marks)"
   ]
  },
  {
   "cell_type": "code",
   "execution_count": 21,
   "id": "ac935d89-9566-4473-8153-a475f72b9af3",
   "metadata": {},
   "outputs": [
    {
     "name": "stdout",
     "output_type": "stream",
     "text": [
      "Hello I am : Jameel\n",
      "My Rollno is : 3085\n",
      "My Marks is : 92\n"
     ]
    }
   ],
   "source": [
    "# Write a Python program to create a Student class and Create an object to it. Call the method talk() to display student details\n",
    "class Student:\n",
    "    \"\"\"Developed by Jameel for python demo\"\"\"\n",
    "    # def __init__(self):\n",
    "    #     self.name=\"Jameel\"\n",
    "    #     self.age=50\n",
    "    #     self.marks=90\n",
    "\n",
    "    def __init__(self,name,rollno,marks):\n",
    "        self.name=name\n",
    "        self.rollno=rollno\n",
    "        self.marks=marks\n",
    "\n",
    "    def talk(self):\n",
    "        print(\"Hello I am :\",self.name)\n",
    "        print(\"My Rollno is :\",self.rollno)\n",
    "        print(\"My Marks is :\",self.marks)\n",
    "\n",
    "# s1 = Student()\n",
    "s1= Student(\"Jameel\",3085,92)\n",
    "s1.talk()"
   ]
  },
  {
   "cell_type": "code",
   "execution_count": 25,
   "id": "52d3bdb5-bf04-46c8-acd0-b856f9d7edc1",
   "metadata": {},
   "outputs": [
    {
     "name": "stdout",
     "output_type": "stream",
     "text": [
      "Constructor execution...\n",
      "Constructor execution...\n",
      "Constructor execution...\n",
      "Method execution...\n",
      "Method execution...\n"
     ]
    }
   ],
   "source": [
    "# Program to demonistrate constructor will execute only once per object:\n",
    "\n",
    "class Test:\n",
    "    def __init__(self):\n",
    "        print(\"Constructor execution...\")\n",
    "\n",
    "    def m1(self):\n",
    "        print(\"Method execution...\")\n",
    "\n",
    "t1=Test()\n",
    "t2=Test()\n",
    "t3=Test()\n",
    "t1.m1()\n",
    "t3.m1()"
   ]
  },
  {
   "cell_type": "code",
   "execution_count": 29,
   "id": "75295525-2362-4901-b4e5-c05b19496489",
   "metadata": {},
   "outputs": [
    {
     "name": "stdout",
     "output_type": "stream",
     "text": [
      "Student Name:Jameel\n",
      "Rollno:101\n",
      "Marks:80\n",
      "Student Name:Montey\n",
      "Rollno:102\n",
      "Marks:99\n"
     ]
    }
   ],
   "source": [
    "#Program\n",
    "\n",
    "class Student:\n",
    "    \"\"\"This is Student class with required data\"\"\"\n",
    "    def __init__(self,x,y,z):\n",
    "        self.name=x\n",
    "        self.rollno=y\n",
    "        self.marks=z\n",
    "\n",
    "    def display(self):\n",
    "        print(\"Student Name:{}\\nRollno:{}\\nMarks:{}\".format(self.name,self.rollno,self.marks))\n",
    "\n",
    "s1=Student(\"Jameel\",101,80)\n",
    "s1.display()\n",
    "s2=Student(\"Montey\",102,99)\n",
    "s2.display()"
   ]
  },
  {
   "cell_type": "code",
   "execution_count": 35,
   "id": "0b6b5915-b36e-4a93-9602-f33dbf62235b",
   "metadata": {},
   "outputs": [
    {
     "name": "stdout",
     "output_type": "stream",
     "text": [
      "{'eno': 100, 'ename': 'Jameel', 'esal': 10000}\n"
     ]
    }
   ],
   "source": [
    "# Inside Constructor by suing self vairable(instance variable)\n",
    "\n",
    "class Employee:\n",
    "    def __init__(self):\n",
    "        self.eno=100\n",
    "        self.ename=\"Jameel\"\n",
    "        self.esal=10000\n",
    "\n",
    "e=Employee()\n",
    "print(e.__dict__)"
   ]
  },
  {
   "cell_type": "code",
   "execution_count": 37,
   "id": "175fdee6-1230-4652-b0a9-e96ae6faaa27",
   "metadata": {},
   "outputs": [
    {
     "name": "stdout",
     "output_type": "stream",
     "text": [
      "{'a': 10, 'b': 20, 'c': 30}\n"
     ]
    }
   ],
   "source": [
    "# Inside Instance Method by using self variable:\n",
    "\n",
    "class Test:\n",
    "    def __init__(self):\n",
    "        self.a=10\n",
    "        self.b=20\n",
    "\n",
    "    def m1(self):\n",
    "        self.c=30\n",
    "\n",
    "t=Test()\n",
    "t.m1()\n",
    "print(t.__dict__)"
   ]
  },
  {
   "cell_type": "code",
   "execution_count": 39,
   "id": "1e977b32-3ed7-445f-ac7c-f47b7261f659",
   "metadata": {},
   "outputs": [
    {
     "name": "stdout",
     "output_type": "stream",
     "text": [
      "{'a': 10, 'b': 20, 'c': 30, 'd': 40}\n"
     ]
    }
   ],
   "source": [
    "# Outside of the class by using object reference variable:\n",
    "\n",
    "class Test:\n",
    "    \n",
    "    def __init__(self):\n",
    "        self.a=10\n",
    "        self.b=20\n",
    "\n",
    "    def m1(self):\n",
    "        self.c=30\n",
    "\n",
    "t=Test()\n",
    "t.m1()\n",
    "t.d=40\n",
    "print(t.__dict__)\n"
   ]
  },
  {
   "cell_type": "code",
   "execution_count": 41,
   "id": "aa54c3d8-5129-4d2c-83ac-9b9e6362fe6a",
   "metadata": {},
   "outputs": [
    {
     "name": "stdout",
     "output_type": "stream",
     "text": [
      "10\n",
      "20\n",
      "10 20\n"
     ]
    }
   ],
   "source": [
    "#Accessing instance variables:\n",
    "\n",
    "class Test:\n",
    "\n",
    "    def __init__(self):\n",
    "        self.a=10\n",
    "        self.b=20\n",
    "\n",
    "    def display(self):\n",
    "        print(self.a)\n",
    "        print(self.b)\n",
    "\n",
    "t=Test()\n",
    "t.display()\n",
    "print(t.a,t.b)"
   ]
  },
  {
   "cell_type": "code",
   "execution_count": 47,
   "id": "c505901d-2b0b-428a-9edd-952d04355636",
   "metadata": {},
   "outputs": [
    {
     "name": "stdout",
     "output_type": "stream",
     "text": [
      "{'a': 10, 'b': 20, 'c': 30, 'd': 40}\n",
      "{'a': 10, 'b': 20, 'c': 30}\n",
      "{'b': 20, 'c': 30}\n"
     ]
    }
   ],
   "source": [
    "# Delete instance variable from object variable\n",
    "\n",
    "class Test:\n",
    "    def __init__(self):\n",
    "        self.a=10\n",
    "        self.b=20\n",
    "        self.c=30\n",
    "        self.d=40\n",
    "    def m1(self):\n",
    "        del self.d\n",
    "\n",
    "t=Test()\n",
    "print(t.__dict__)\n",
    "t.m1()\n",
    "print(t.__dict__)\n",
    "del t.a\n",
    "print(t.__dict__)"
   ]
  },
  {
   "cell_type": "code",
   "execution_count": 51,
   "id": "11c08905-4df5-43bf-af3a-45236cceec2c",
   "metadata": {},
   "outputs": [
    {
     "name": "stdout",
     "output_type": "stream",
     "text": [
      "{'b': 20, 'd': True, 'e': 40}\n",
      "{'a': 10, 'b': 20, 'c': 'Jameel', 'd': True, 'e': 40}\n"
     ]
    }
   ],
   "source": [
    "# The instance variable which are deleted from one object, will not be deleted from other object\n",
    "\n",
    "class Test:\n",
    "    def __init__(self):\n",
    "        self.a=10\n",
    "        self.b=20\n",
    "        self.c=\"Jameel\"\n",
    "        self.d=True\n",
    "        self.e=40\n",
    "\n",
    "t1=Test()\n",
    "t2=Test()\n",
    "del t1.a\n",
    "del t1.c\n",
    "print(t1.__dict__)\n",
    "print(t2.__dict__)"
   ]
  },
  {
   "cell_type": "code",
   "execution_count": 55,
   "id": "8329a3c0-d6ca-43c5-9044-a11cd4560876",
   "metadata": {},
   "outputs": [
    {
     "name": "stdout",
     "output_type": "stream",
     "text": [
      "t1: 9983 999\n",
      "t2: 10 20\n"
     ]
    }
   ],
   "source": [
    "# If we change the values of instance variable of one object then those\n",
    "# changes won't be reflected to the remaining objects\n",
    "\n",
    "class Test:\n",
    "    def __init__(self):\n",
    "        self.a=10\n",
    "        self.b=20\n",
    "\n",
    "t1=Test()\n",
    "t1.a=9983\n",
    "t1.b=999\n",
    "t2=Test()\n",
    "print(\"t1:\",t1.a,t1.b)\n",
    "print(\"t2:\",t2.a,t2.b)"
   ]
  },
  {
   "cell_type": "code",
   "execution_count": 7,
   "id": "c67af08c-729c-43bc-8de6-eb280f984a16",
   "metadata": {},
   "outputs": [
    {
     "name": "stdout",
     "output_type": "stream",
     "text": [
      "t1: 10 20\n",
      "t2: 10 20\n",
      "t1: 888 999\n",
      "t2: 888 20\n"
     ]
    }
   ],
   "source": [
    "# Instance Variable vs Static Variable:\n",
    "\n",
    "class Test:\n",
    "    x=10\n",
    "    def __init__(self):\n",
    "        self.y=20\n",
    "\n",
    "t1=Test()\n",
    "t2=Test()\n",
    "print('t1:',t1.x,t1.y)\n",
    "print('t2:',t2.x,t2.y)\n",
    "Test.x=888\n",
    "t1.y=999\n",
    "print('t1:',t1.x,t1.y)\n",
    "print('t2:',t2.x,t2.y)"
   ]
  },
  {
   "cell_type": "code",
   "execution_count": 27,
   "id": "4d7ae037-b210-4603-a45d-6e9c0a36149b",
   "metadata": {},
   "outputs": [
    {
     "name": "stdout",
     "output_type": "stream",
     "text": [
      "{'__module__': '__main__', 'a': 10, '__init__': <function Test1.__init__ at 0x00000241BCDFDA80>, 'm1': <function Test1.m1 at 0x00000241BCDFE480>, 'm2': <classmethod(<function Test1.m2 at 0x00000241BCDFEE80>)>, 'm3': <staticmethod(<function Test1.m3 at 0x00000241BCDFEF20>)>, '__dict__': <attribute '__dict__' of 'Test1' objects>, '__weakref__': <attribute '__weakref__' of 'Test1' objects>, '__doc__': None}\n",
      "{'__module__': '__main__', 'a': 10, '__init__': <function Test1.__init__ at 0x00000241BCDFDA80>, 'm1': <function Test1.m1 at 0x00000241BCDFE480>, 'm2': <classmethod(<function Test1.m2 at 0x00000241BCDFEE80>)>, 'm3': <staticmethod(<function Test1.m3 at 0x00000241BCDFEF20>)>, '__dict__': <attribute '__dict__' of 'Test1' objects>, '__weakref__': <attribute '__weakref__' of 'Test1' objects>, '__doc__': None, 'b': 20}\n",
      "{'__module__': '__main__', 'a': 10, '__init__': <function Test1.__init__ at 0x00000241BCDFDA80>, 'm1': <function Test1.m1 at 0x00000241BCDFE480>, 'm2': <classmethod(<function Test1.m2 at 0x00000241BCDFEE80>)>, 'm3': <staticmethod(<function Test1.m3 at 0x00000241BCDFEF20>)>, '__dict__': <attribute '__dict__' of 'Test1' objects>, '__weakref__': <attribute '__weakref__' of 'Test1' objects>, '__doc__': None, 'b': 20}\n",
      "{'__module__': '__main__', 'a': 10, '__init__': <function Test1.__init__ at 0x00000241BCDFDA80>, 'm1': <function Test1.m1 at 0x00000241BCDFE480>, 'm2': <classmethod(<function Test1.m2 at 0x00000241BCDFEE80>)>, 'm3': <staticmethod(<function Test1.m3 at 0x00000241BCDFEF20>)>, '__dict__': <attribute '__dict__' of 'Test1' objects>, '__weakref__': <attribute '__weakref__' of 'Test1' objects>, '__doc__': None, 'b': 20, 'c': 30}\n",
      "{'__module__': '__main__', 'a': 10, '__init__': <function Test1.__init__ at 0x00000241BCDFDA80>, 'm1': <function Test1.m1 at 0x00000241BCDFE480>, 'm2': <classmethod(<function Test1.m2 at 0x00000241BCDFEE80>)>, 'm3': <staticmethod(<function Test1.m3 at 0x00000241BCDFEF20>)>, '__dict__': <attribute '__dict__' of 'Test1' objects>, '__weakref__': <attribute '__weakref__' of 'Test1' objects>, '__doc__': None, 'b': 20, 'c': 30, 'd1': 40, 'd2': 400}\n",
      "{'__module__': '__main__', 'a': 10, '__init__': <function Test1.__init__ at 0x00000241BCDFDA80>, 'm1': <function Test1.m1 at 0x00000241BCDFE480>, 'm2': <classmethod(<function Test1.m2 at 0x00000241BCDFEE80>)>, 'm3': <staticmethod(<function Test1.m3 at 0x00000241BCDFEF20>)>, '__dict__': <attribute '__dict__' of 'Test1' objects>, '__weakref__': <attribute '__weakref__' of 'Test1' objects>, '__doc__': None, 'b': 20, 'c': 30, 'd1': 40, 'd2': 400, 'e': 50}\n",
      "{'__module__': '__main__', 'a': 10, '__init__': <function Test1.__init__ at 0x00000241BCDFDA80>, 'm1': <function Test1.m1 at 0x00000241BCDFE480>, 'm2': <classmethod(<function Test1.m2 at 0x00000241BCDFEE80>)>, 'm3': <staticmethod(<function Test1.m3 at 0x00000241BCDFEF20>)>, '__dict__': <attribute '__dict__' of 'Test1' objects>, '__weakref__': <attribute '__weakref__' of 'Test1' objects>, '__doc__': None, 'b': 20, 'c': 30, 'd1': 40, 'd2': 400, 'e': 50, 'f': 60}\n"
     ]
    }
   ],
   "source": [
    "# Various places to declare static variables:\n",
    "# 1. In generl we can declare within the class directly but from out side of any method\n",
    "# 2. Inside constructor by using class name\n",
    "# 3. Inside instance method by suing class name\n",
    "# 4. Inside classmethod by using either class name or cls variable\n",
    "# 5. Inside static method by using class name\n",
    "\n",
    "\n",
    "class Test1:\n",
    "    a=10\n",
    "    def __init__(self):\n",
    "        Test1.b=20\n",
    "    def m1(self):\n",
    "        Test1.c=30\n",
    "    @classmethod\n",
    "    def m2(cls):\n",
    "        cls.d1=40\n",
    "        Test1.d2=400\n",
    "    @staticmethod\n",
    "    def m3():\n",
    "        Test1.e=50\n",
    "\n",
    "\n",
    "print(Test1.__dict__)\n",
    "t=Test1()\n",
    "print(Test1.__dict__)\n",
    "print(Test1.__dict__)\n",
    "t.m1()\n",
    "print(Test1.__dict__)\n",
    "Test1.m2()\n",
    "print(Test1.__dict__)\n",
    "Test1.m3()\n",
    "print(Test1.__dict__)\n",
    "Test1.f=60\n",
    "print(Test1.__dict__)"
   ]
  },
  {
   "cell_type": "code",
   "execution_count": 1,
   "id": "91064d0c-9585-43b7-ba4c-3ba9429fb505",
   "metadata": {},
   "outputs": [
    {
     "name": "stdout",
     "output_type": "stream",
     "text": [
      "777\n",
      "888\n",
      "999\n"
     ]
    }
   ],
   "source": [
    "# Where we can modify the value of static variable:\n",
    "class Test:\n",
    "    a=777\n",
    "    @classmethod\n",
    "    def m1(cls):\n",
    "        cls.a=888\n",
    "    @staticmethod\n",
    "    def m2():\n",
    "        Test.a=999\n",
    "\n",
    "print(Test.a)\n",
    "Test.m1()\n",
    "print(Test.a)\n",
    "Test.m2()\n",
    "print(Test.a)"
   ]
  },
  {
   "cell_type": "code",
   "execution_count": 5,
   "id": "a12ad0d7-de7e-4907-8641-5f1a765368db",
   "metadata": {},
   "outputs": [
    {
     "name": "stdout",
     "output_type": "stream",
     "text": [
      "10\n",
      "888\n"
     ]
    }
   ],
   "source": [
    "# If We change the value of static variable by using either self\n",
    "# or object reference variable:\n",
    "# If we change the value of static variable by using eithe self or object reference variable, then the \n",
    "# value of static variable won't be changged, just a new instance variable with that name will be\n",
    "# added to that particualr object.\n",
    "\n",
    "\n",
    "class Testt:\n",
    "    a=10\n",
    "    def m1(self):\n",
    "        self.a=888\n",
    "\n",
    "t1=Testt()\n",
    "t1.m1()\n",
    "print(Testt.a)\n",
    "print(t1.a)"
   ]
  },
  {
   "cell_type": "code",
   "execution_count": 7,
   "id": "496a4e94-59f6-488f-a5fb-d3c4de74098b",
   "metadata": {},
   "outputs": [
    {
     "name": "stdout",
     "output_type": "stream",
     "text": [
      "t1: 10 20\n",
      "t2: 10 20\n",
      "t1: 888 20\n",
      "t2: 10 999\n"
     ]
    }
   ],
   "source": [
    "class Test2:\n",
    "    x=10\n",
    "    def __init__(self):\n",
    "        self.y=20\n",
    "\n",
    "t1=Test2()\n",
    "t2=Test2()\n",
    "print(\"t1:\",t1.x,t1.y)\n",
    "print(\"t2:\",t2.x,t2.y)\n",
    "t1.x=888\n",
    "t2.y=999\n",
    "print(\"t1:\",t1.x,t1.y)\n",
    "print(\"t2:\",t2.x,t2.y)"
   ]
  },
  {
   "cell_type": "code",
   "execution_count": 9,
   "id": "1bb7aacf-9c2c-4aa1-a488-8954e93f2207",
   "metadata": {},
   "outputs": [
    {
     "name": "stdout",
     "output_type": "stream",
     "text": [
      "1000\n",
      "2000\n"
     ]
    }
   ],
   "source": [
    "#Local Variables:\n",
    "class Test:\n",
    "    def m1(self):\n",
    "        a = 1000\n",
    "        print(a)\n",
    "\n",
    "    def m2(self):\n",
    "        b=2000\n",
    "        print(b)\n",
    "\n",
    "t=Test()\n",
    "t.m1()\n",
    "t.m2()\n"
   ]
  },
  {
   "cell_type": "code",
   "execution_count": 13,
   "id": "46178bd6-c463-48b9-84d3-1916af1ac2dd",
   "metadata": {},
   "outputs": [
    {
     "name": "stdout",
     "output_type": "stream",
     "text": [
      "1000\n"
     ]
    },
    {
     "ename": "NameError",
     "evalue": "name 'a' is not defined",
     "output_type": "error",
     "traceback": [
      "\u001b[1;31m---------------------------------------------------------------------------\u001b[0m",
      "\u001b[1;31mNameError\u001b[0m                                 Traceback (most recent call last)",
      "Cell \u001b[1;32mIn[13], line 12\u001b[0m\n\u001b[0;32m     10\u001b[0m t\u001b[38;5;241m=\u001b[39mTest()\n\u001b[0;32m     11\u001b[0m t\u001b[38;5;241m.\u001b[39mm1()\n\u001b[1;32m---> 12\u001b[0m t\u001b[38;5;241m.\u001b[39mm2()\n",
      "Cell \u001b[1;32mIn[13], line 7\u001b[0m, in \u001b[0;36mTest.m2\u001b[1;34m(self)\u001b[0m\n\u001b[0;32m      5\u001b[0m \u001b[38;5;28;01mdef\u001b[39;00m \u001b[38;5;21mm2\u001b[39m(\u001b[38;5;28mself\u001b[39m):\n\u001b[0;32m      6\u001b[0m     b\u001b[38;5;241m=\u001b[39m\u001b[38;5;241m2000\u001b[39m\n\u001b[1;32m----> 7\u001b[0m     \u001b[38;5;28mprint\u001b[39m(a) \u001b[38;5;66;03m# NameError: name 'a' is not defined\u001b[39;00m\n\u001b[0;32m      8\u001b[0m     \u001b[38;5;28mprint\u001b[39m(b)\n",
      "\u001b[1;31mNameError\u001b[0m: name 'a' is not defined"
     ]
    }
   ],
   "source": [
    "class Test:\n",
    "    def m1(self):\n",
    "        a=1000\n",
    "        print(a)\n",
    "    def m2(self):\n",
    "        b=2000\n",
    "        print(a) # NameError: name 'a' is not defined\n",
    "        print(b)\n",
    "\n",
    "t=Test()\n",
    "t.m1()\n",
    "t.m2()"
   ]
  },
  {
   "cell_type": "code",
   "execution_count": 19,
   "id": "dce2c1ea-c682-4b4a-9c22-34c73a31f621",
   "metadata": {},
   "outputs": [
    {
     "name": "stdin",
     "output_type": "stream",
     "text": [
      "Enter number of student: 2\n",
      "Enter Name: Jameel\n",
      "Enter Marks 83\n"
     ]
    },
    {
     "name": "stdout",
     "output_type": "stream",
     "text": [
      "Hi Jameel\n",
      "Your Marks are: 83\n",
      "You got First Grade\n",
      "\n"
     ]
    },
    {
     "name": "stdin",
     "output_type": "stream",
     "text": [
      "Enter Name: Jack\n",
      "Enter Marks 75\n"
     ]
    },
    {
     "name": "stdout",
     "output_type": "stream",
     "text": [
      "Hi Jack\n",
      "Your Marks are: 75\n",
      "You got First Grade\n",
      "\n"
     ]
    }
   ],
   "source": [
    "# Types of methods:\n",
    "# 1. Instance Method\n",
    "# 2. Class Method\n",
    "# 3. Static Method\n",
    "\n",
    "# Instance Method\n",
    "\n",
    "class Student:\n",
    "    def __init__(self,name,marks):\n",
    "        self.name=name\n",
    "        self.marks=marks\n",
    "    def display(self):\n",
    "        print(\"Hi\",self.name)\n",
    "        print(\"Your Marks are:\",self.marks)\n",
    "    def grade(self):\n",
    "        if self.marks>=60:\n",
    "            print(\"You got First Grade\")\n",
    "        elif self.marks>=50:\n",
    "            print(\"You got second grande\")\n",
    "        elif self.marks>=35:\n",
    "            print(\"You got Third Grade\")\n",
    "\n",
    "        else:\n",
    "            print(\"You are failed\")\n",
    "\n",
    "n=int(input(\"Enter number of student:\"))\n",
    "for i in range(n):\n",
    "    name=input(\"Enter Name:\")\n",
    "    marks=int(input(\"Enter Marks\"))\n",
    "    s=Student(name,marks)\n",
    "    s.display()\n",
    "    s.grade()\n",
    "    print()"
   ]
  },
  {
   "cell_type": "code",
   "execution_count": 25,
   "id": "218e4734-8e79-466c-a54b-630ef9f225a7",
   "metadata": {},
   "outputs": [
    {
     "name": "stdin",
     "output_type": "stream",
     "text": [
      "Enter number of students: 3\n",
      "Enter Name: Jameel\n",
      "Enter Marks: 100\n"
     ]
    },
    {
     "name": "stdout",
     "output_type": "stream",
     "text": [
      "Hi Jameel\n",
      "Your Marks are: 100\n",
      "\n"
     ]
    },
    {
     "name": "stdin",
     "output_type": "stream",
     "text": [
      "Enter Name: Muneer\n",
      "Enter Marks: 99\n"
     ]
    },
    {
     "name": "stdout",
     "output_type": "stream",
     "text": [
      "Hi Muneer\n",
      "Your Marks are: 99\n",
      "\n"
     ]
    },
    {
     "name": "stdin",
     "output_type": "stream",
     "text": [
      "Enter Name: Manoj\n",
      "Enter Marks: 100\n"
     ]
    },
    {
     "name": "stdout",
     "output_type": "stream",
     "text": [
      "Hi Manoj\n",
      "Your Marks are: 100\n",
      "\n"
     ]
    }
   ],
   "source": [
    "#Setter and Getter Methods:\n",
    "\n",
    "class Student:\n",
    "    def setName(self,name):\n",
    "        self.name=name\n",
    "    \n",
    "    def getName(self):\n",
    "        return self.name\n",
    "    \n",
    "    def setMarks(self,marks):\n",
    "        self.marks=marks\n",
    "    \n",
    "    def getMarks(self):\n",
    "        return self.marks\n",
    "\n",
    "n=int(input(\"Enter number of students:\"))\n",
    "for i in range(n):\n",
    "    s=Student()\n",
    "    name=input(\"Enter Name:\")\n",
    "    s.setName(name)\n",
    "    marks=int(input(\"Enter Marks:\"))\n",
    "    s.setMarks(marks)\n",
    "\n",
    "    print(\"Hi\", s.getName())\n",
    "    print(\"Your Marks are:\",s.getMarks())\n",
    "    print()"
   ]
  },
  {
   "cell_type": "code",
   "execution_count": 27,
   "id": "7443d06a-8447-42d2-b7f8-d2bbfbe53a50",
   "metadata": {},
   "outputs": [
    {
     "name": "stdout",
     "output_type": "stream",
     "text": [
      "Dog walks with 4 legs....\n",
      "Cat walks with 4 legs....\n"
     ]
    }
   ],
   "source": [
    "#class Method\n",
    "class Animal:\n",
    "    legs=4\n",
    "    @classmethod\n",
    "    def walk(cls,name):\n",
    "        print('{} walks with {} legs....'.format(name,cls.legs))\n",
    "\n",
    "Animal.walk('Dog')\n",
    "Animal.walk('Cat')"
   ]
  },
  {
   "cell_type": "code",
   "execution_count": 29,
   "id": "2584f29b-d619-4389-b5c9-4833bbec227c",
   "metadata": {},
   "outputs": [
    {
     "name": "stdout",
     "output_type": "stream",
     "text": [
      "The number of objects created for test class: 2\n",
      "The number of objects created for test class: 5\n"
     ]
    }
   ],
   "source": [
    "# Program to track the number of objects created for a class:\n",
    "\n",
    "class Test:\n",
    "    count=0\n",
    "    def __init__(self):\n",
    "        Test.count=Test.count+1\n",
    "    @classmethod\n",
    "    def noOfObjects(cls):\n",
    "        print(\"The number of objects created for test class:\",cls.count)\n",
    "\n",
    "t1=Test()\n",
    "t2=Test()\n",
    "Test.noOfObjects()\n",
    "t3=Test()\n",
    "t4=Test()\n",
    "t5=Test()\n",
    "Test.noOfObjects()"
   ]
  },
  {
   "cell_type": "code",
   "execution_count": 35,
   "id": "2d14d295-a14c-4acd-841b-d7634945d4e6",
   "metadata": {},
   "outputs": [
    {
     "name": "stdout",
     "output_type": "stream",
     "text": [
      "The sum: 30\n",
      "The Product: 290\n",
      "The average: 33.0\n"
     ]
    }
   ],
   "source": [
    "# Static Methods:\n",
    "\n",
    "class JameelMath:\n",
    "\n",
    "    @staticmethod\n",
    "    def add(x,y):\n",
    "        print('The sum:',x+y)\n",
    "\n",
    "    @staticmethod\n",
    "    def product(x,y):\n",
    "        print('The Product:',x*y)\n",
    "\n",
    "    @staticmethod\n",
    "    def average(x,y):\n",
    "        print('The average:',(x+y)/2)\n",
    "\n",
    "JameelMath.add(10,20)\n",
    "JameelMath.product(29,10)\n",
    "JameelMath.average(33,33)"
   ]
  },
  {
   "cell_type": "code",
   "execution_count": 39,
   "id": "df16ab00-8ee3-48f2-aa33-3aeb4fafde63",
   "metadata": {},
   "outputs": [
    {
     "name": "stdout",
     "output_type": "stream",
     "text": [
      "Employee Number: 100\n",
      "Employee Name: Jameel\n",
      "Employee Salary: 20000\n"
     ]
    }
   ],
   "source": [
    "# Passing members of one class to another class:\n",
    "\n",
    "class Employee:\n",
    "    def __init__(self,eno,ename,esal):\n",
    "        self.eno=eno\n",
    "        self.ename=ename\n",
    "        self.esal=esal\n",
    "\n",
    "    def display(self):\n",
    "        print('Employee Number:',self.eno)\n",
    "        print('Employee Name:',self.ename)\n",
    "        print('Employee Salary:',self.esal)\n",
    "\n",
    "class Test:\n",
    "    def modify(emp):\n",
    "        emp.esal=emp.esal+10000\n",
    "        emp.display()\n",
    "\n",
    "e=Employee(100,\"Jameel\",10000)\n",
    "Test.modify(e)"
   ]
  },
  {
   "cell_type": "code",
   "execution_count": 45,
   "id": "ebcdd7cc-f468-4e17-823e-817be4901190",
   "metadata": {},
   "outputs": [
    {
     "name": "stdout",
     "output_type": "stream",
     "text": [
      "outer class object creation\n",
      "Inner class object creation\n",
      "Inner class method\n",
      "outer class object creation\n",
      "Inner class object creation\n",
      "Inner class method\n",
      "outer class object creation\n",
      "Inner class object creation\n",
      "Inner class method\n"
     ]
    }
   ],
   "source": [
    "# Inner Classes\n",
    "class Outer:\n",
    "    def __init__(self):\n",
    "        print(\"outer class object creation\")\n",
    "    class Inner:\n",
    "        def __init__(self):\n",
    "            print(\"Inner class object creation\")\n",
    "        def m1(self):\n",
    "            print(\"Inner class method\")\n",
    "\n",
    "o=Outer()\n",
    "i=o.Inner()\n",
    "i.m1()\n",
    "\n",
    "ii=Outer().Inner()\n",
    "ii.m1()\n",
    "\n",
    "\n",
    "Outer().Inner().m1()"
   ]
  },
  {
   "cell_type": "code",
   "execution_count": 55,
   "id": "397f608b-baed-473a-b0f0-5926110613ed",
   "metadata": {},
   "outputs": [
    {
     "name": "stdout",
     "output_type": "stream",
     "text": [
      "Name: Jameel\n",
      "Dob:  10/5/1947\n"
     ]
    }
   ],
   "source": [
    "class Person:\n",
    "    def __init__(self):\n",
    "        self.name=\"Jameel\"\n",
    "        self.db=self.Dob()\n",
    "    def display(self):\n",
    "        print('Name:',self.name)\n",
    "    class Dob:\n",
    "        def __init__(self):\n",
    "            self.dd=10\n",
    "            self.mm=5\n",
    "            self.yy=1947\n",
    "        def display(self):\n",
    "            print('Dob:  {}/{}/{}'.format(self.dd,self.mm,self.yy))\n",
    "\n",
    "p=Person()\n",
    "p.display()\n",
    "x=p.Dob()\n",
    "x.display()"
   ]
  },
  {
   "cell_type": "code",
   "execution_count": null,
   "id": "e284c58c-6a43-4990-8038-36de2eeb5927",
   "metadata": {},
   "outputs": [],
   "source": []
  }
 ],
 "metadata": {
  "kernelspec": {
   "display_name": "Python 3 (ipykernel)",
   "language": "python",
   "name": "python3"
  },
  "language_info": {
   "codemirror_mode": {
    "name": "ipython",
    "version": 3
   },
   "file_extension": ".py",
   "mimetype": "text/x-python",
   "name": "python",
   "nbconvert_exporter": "python",
   "pygments_lexer": "ipython3",
   "version": "3.12.4"
  }
 },
 "nbformat": 4,
 "nbformat_minor": 5
}
