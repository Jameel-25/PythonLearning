{
 "cells": [
  {
   "cell_type": "code",
   "execution_count": 8,
   "id": "72114bd6-195f-40f8-9f07-a70ee84b04ce",
   "metadata": {},
   "outputs": [
    {
     "name": "stdout",
     "output_type": "stream",
     "text": [
      "Buddy is 3 years old.\n",
      "Max is 5 years old.\n"
     ]
    }
   ],
   "source": [
    "#Define a Dog class\n",
    "class Dog:\n",
    "\n",
    "    #Constructor method to intialize the dog with a name and age\n",
    "    def __init__(self,name,age):\n",
    "        self.name = name\n",
    "        self.age = age\n",
    "        \n",
    "    #Method to make the dog bark\n",
    "    def bark(self):\n",
    "        print(f\"{self.name} says Woof!\")\n",
    "\n",
    "\n",
    "#Create instances (objects) of the Dog class\n",
    "dog1 = Dog(\"Buddy\",3)\n",
    "dog2 = Dog(\"Max\",5)\n",
    "\n",
    "#Accessing object atttributes\n",
    "print(f\"{dog1.name} is {dog1.age} years old.\")\n",
    "print(f\"{dog2.name} is {dog2.age} years old.\")\n",
    "\n",
    "#Calling objects methods\n",
    "dog1.bark()\n",
    "dog2.bark()"
   ]
  },
  {
   "cell_type": "code",
   "execution_count": 14,
   "id": "00c1a3c4-ae55-4c88-a72c-327c9775931b",
   "metadata": {},
   "outputs": [
    {
     "name": "stdout",
     "output_type": "stream",
     "text": [
      "Toyota\n",
      "Cancy\n",
      "Toyota Cancy\n"
     ]
    }
   ],
   "source": [
    "class Car:\n",
    "    def __init__(self, make, model):\n",
    "        self.make = make\n",
    "        self.model = model\n",
    "\n",
    "\n",
    "    def display_info(self):\n",
    "        print(f\"{self.make} {self.model}\")\n",
    "\n",
    "my_car = Car(\"Toyota\", \"Cancy\")\n",
    "\n",
    "print(my_car.make)\n",
    "print(my_car.model)\n",
    "my_car.display_info()"
   ]
  },
  {
   "cell_type": "code",
   "execution_count": null,
   "id": "3c7dbe5b-a11f-48bf-97f3-bd444b08779b",
   "metadata": {},
   "outputs": [],
   "source": []
  }
 ],
 "metadata": {
  "kernelspec": {
   "display_name": "Python 3 (ipykernel)",
   "language": "python",
   "name": "python3"
  },
  "language_info": {
   "codemirror_mode": {
    "name": "ipython",
    "version": 3
   },
   "file_extension": ".py",
   "mimetype": "text/x-python",
   "name": "python",
   "nbconvert_exporter": "python",
   "pygments_lexer": "ipython3",
   "version": "3.11.7"
  }
 },
 "nbformat": 4,
 "nbformat_minor": 5
}
