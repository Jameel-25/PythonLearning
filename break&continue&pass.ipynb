{
 "cells": [
  {
   "cell_type": "code",
   "execution_count": 6,
   "id": "6ed4f4b0-befe-44d7-98be-4b2c5268d3a7",
   "metadata": {},
   "outputs": [
    {
     "name": "stdout",
     "output_type": "stream",
     "text": [
      "First even number found: 2\n"
     ]
    }
   ],
   "source": [
    "#break statement\n",
    "#find the first even number in a list\n",
    "numbers=[1,3,5,39,9,3,2,19,10]\n",
    "for num in numbers:\n",
    "    if num%2==0:\n",
    "        print(\"First even number found:\",num)\n",
    "        break"
   ]
  },
  {
   "cell_type": "code",
   "execution_count": 10,
   "id": "ff886121-12a1-401a-aeec-4b7eeb9bce98",
   "metadata": {},
   "outputs": [
    {
     "name": "stdout",
     "output_type": "stream",
     "text": [
      "Element found\n"
     ]
    }
   ],
   "source": [
    "#search for a specific element in a list\n",
    "target_element=40\n",
    "data=[10,20,30,40,50]\n",
    "for element in data:\n",
    "    if element == target_element:\n",
    "        print(\"Element found\")\n",
    "        break"
   ]
  },
  {
   "cell_type": "code",
   "execution_count": 14,
   "id": "f2e9e29f-addb-44ae-b656-778f08523b9c",
   "metadata": {},
   "outputs": [
    {
     "name": "stdout",
     "output_type": "stream",
     "text": [
      "1\n",
      "3\n",
      "5\n"
     ]
    }
   ],
   "source": [
    "#continue statement\n",
    "#Print odd numbers from 1 to 5\n",
    "for i in range(1,6):\n",
    "    if i%2==0:\n",
    "        continue\n",
    "    print(i)"
   ]
  },
  {
   "cell_type": "code",
   "execution_count": 16,
   "id": "6ff96296-05e9-4cc5-ad6a-7e2152bd3245",
   "metadata": {},
   "outputs": [
    {
     "name": "stdout",
     "output_type": "stream",
     "text": [
      "Positive number: 1\n",
      "Positive number: 8\n",
      "Positive number: 10\n"
     ]
    }
   ],
   "source": [
    "#skip negative numbers in a list\n",
    "numbers = [1,-5,8,-3,10]\n",
    "for num in numbers:\n",
    "    if num<0:\n",
    "        continue\n",
    "    print(\"Positive number:\",num)"
   ]
  },
  {
   "cell_type": "code",
   "execution_count": 26,
   "id": "f83cde2e-5d5f-4c45-855c-31f77eca3f26",
   "metadata": {},
   "outputs": [],
   "source": [
    "#pass statement\n",
    "#check if a number is even, do nothing otherwise\n",
    "num = 9\n",
    "if num%2==0:\n",
    "    print(\"Number is even\")\n",
    "else:\n",
    "    pass"
   ]
  },
  {
   "cell_type": "code",
   "execution_count": null,
   "id": "c5edca46-bbb8-45bf-b726-b9d9b651e3e2",
   "metadata": {},
   "outputs": [],
   "source": []
  }
 ],
 "metadata": {
  "kernelspec": {
   "display_name": "Python 3 (ipykernel)",
   "language": "python",
   "name": "python3"
  },
  "language_info": {
   "codemirror_mode": {
    "name": "ipython",
    "version": 3
   },
   "file_extension": ".py",
   "mimetype": "text/x-python",
   "name": "python",
   "nbconvert_exporter": "python",
   "pygments_lexer": "ipython3",
   "version": "3.11.7"
  }
 },
 "nbformat": 4,
 "nbformat_minor": 5
}
