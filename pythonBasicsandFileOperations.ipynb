{
 "cells": [
  {
   "cell_type": "code",
   "execution_count": 3,
   "id": "38e776f1-a96d-49f5-86d8-30f1d7b00ef4",
   "metadata": {},
   "outputs": [
    {
     "name": "stdout",
     "output_type": "stream",
     "text": [
      "Factorial of 4 is: 24\n",
      "Factorial of 5 is: 120\n"
     ]
    }
   ],
   "source": [
    "#Write a python function to find factorial of given number with recursion.\n",
    "\n",
    "def factorial(n):\n",
    "    if n == 0:\n",
    "        result = 1\n",
    "    else: \n",
    "        result = n* factorial(n-1)\n",
    "    return result\n",
    "\n",
    "\n",
    "print(\"Factorial of 4 is:\",factorial(4))\n",
    "print(\"Factorial of 5 is:\",factorial(5))"
   ]
  },
  {
   "cell_type": "code",
   "execution_count": 7,
   "id": "2cfe7939-9c3f-4836-8aac-d1b0fe39878c",
   "metadata": {},
   "outputs": [
    {
     "name": "stdout",
     "output_type": "stream",
     "text": [
      "The Square of 4 is: 16\n",
      "The Square of 99 is: 9801\n"
     ]
    }
   ],
   "source": [
    "#Write a program to create a lambda function to find square of given number?\n",
    "\n",
    "s=lambda n:n*n\n",
    "print(\"The Square of 4 is:\",s(4))\n",
    "print(\"The Square of 99 is:\",s(99))"
   ]
  },
  {
   "cell_type": "code",
   "execution_count": 13,
   "id": "99011152-ae41-47e9-b384-b6256ded2be6",
   "metadata": {},
   "outputs": [
    {
     "name": "stdout",
     "output_type": "stream",
     "text": [
      "The Sum of 10,20 is: 30\n",
      "The sum fo 100,29 si: 129\n"
     ]
    }
   ],
   "source": [
    "#Lambda function to find sum of 2 given numbers\n",
    "\n",
    "s = lambda a,b : a+b\n",
    "print(\"The Sum of 10,20 is:\",s(10,20))\n",
    "print(\"The sum fo 100,29 si:\",s(100,29))"
   ]
  },
  {
   "cell_type": "code",
   "execution_count": 19,
   "id": "824d14e0-4fb3-48c2-9387-537f59ce5eda",
   "metadata": {},
   "outputs": [
    {
     "name": "stdout",
     "output_type": "stream",
     "text": [
      "The Biggest of 10,20 is: 20\n",
      "The Biggest of 199,2992 is: 2992\n"
     ]
    }
   ],
   "source": [
    "#Lambda function find biggest of given values.\n",
    "s = lambda a,b: a if a>b else b\n",
    "print(\"The Biggest of 10,20 is:\",s(10,20))\n",
    "print(\"The Biggest of 199,2992 is:\",s(2992,199))"
   ]
  },
  {
   "cell_type": "code",
   "execution_count": 21,
   "id": "61f279a3-5500-4d7c-94b8-82df4505ed1a",
   "metadata": {},
   "outputs": [
    {
     "name": "stdout",
     "output_type": "stream",
     "text": [
      "[0, 10, 20, 30]\n"
     ]
    }
   ],
   "source": [
    "#fileter() function:\n",
    "#We can use filter() function to filter values from the given sequence based on some condition.\n",
    "#filter(function,sequence)\n",
    "\n",
    "#Program to filter only even numbers from the list by suing filter() function?\n",
    "#Without lambda fucntion:\n",
    "\n",
    "def isEven(x):\n",
    "    if x%2==0:\n",
    "        return True\n",
    "    else:\n",
    "        return False\n",
    "I=[0,5,10,15,20,25,30]\n",
    "l1=list(filter(isEven,I))\n",
    "print(l1)"
   ]
  },
  {
   "cell_type": "code",
   "execution_count": 23,
   "id": "e31fcabd-2ea2-4307-8725-9711de803f5a",
   "metadata": {},
   "outputs": [
    {
     "name": "stdout",
     "output_type": "stream",
     "text": [
      "[0, 10, 20, 30]\n",
      "[5, 15, 25, 35]\n"
     ]
    }
   ],
   "source": [
    "#With lambda function:\n",
    "\n",
    "l=[0,5,10,15,20,25,30,35]\n",
    "l1=list(filter(lambda x:x%2==0,l))\n",
    "print(l1)\n",
    "l2=list(filter(lambda x:x%2!=0,l))\n",
    "print(l2)"
   ]
  },
  {
   "cell_type": "code",
   "execution_count": 25,
   "id": "f0880f93-0f59-4fcb-8d90-eb0d67b2678d",
   "metadata": {},
   "outputs": [
    {
     "name": "stdout",
     "output_type": "stream",
     "text": [
      "Hello Durga Good Morning\n",
      "Hello Ravi Good Morning\n",
      "Hello Sunny Bad Morning\n"
     ]
    }
   ],
   "source": [
    "def decor(func):\n",
    "    def inner(name):\n",
    "        if name==\"Sunny\":\n",
    "            print(\"Hello Sunny Bad Morning\")\n",
    "        else:\n",
    "            func(name)\n",
    "    return inner\n",
    "\n",
    "@decor\n",
    "def wish(name):\n",
    "    print(\"Hello\",name,\"Good Morning\")\n",
    "\n",
    "wish(\"Durga\")\n",
    "wish(\"Ravi\")\n",
    "wish(\"Sunny\")"
   ]
  },
  {
   "cell_type": "code",
   "execution_count": 27,
   "id": "b8fbbce1-be0f-4a11-ac84-6d6c95f61b1b",
   "metadata": {},
   "outputs": [
    {
     "name": "stdout",
     "output_type": "stream",
     "text": [
      "1\n",
      "2\n",
      "3\n",
      "4\n",
      "5\n"
     ]
    }
   ],
   "source": [
    "#To generate first n numbers:\n",
    "\n",
    "def firstn(num):\n",
    "    n=1\n",
    "    while n<=num:\n",
    "        yield n\n",
    "        n=n+1\n",
    "\n",
    "values=firstn(5)\n",
    "\n",
    "for x in values:\n",
    "    print(x)"
   ]
  },
  {
   "cell_type": "code",
   "execution_count": 29,
   "id": "e1798b40-c416-4df8-96ea-32e43dbc222f",
   "metadata": {},
   "outputs": [
    {
     "data": {
      "text/plain": [
       "generator"
      ]
     },
     "execution_count": 29,
     "metadata": {},
     "output_type": "execute_result"
    }
   ],
   "source": [
    "type(values)"
   ]
  },
  {
   "cell_type": "code",
   "execution_count": 33,
   "id": "04fa89fe-629a-4f4a-934f-b1e6c16d87a2",
   "metadata": {},
   "outputs": [
    {
     "name": "stdout",
     "output_type": "stream",
     "text": [
      "The sum: 898\n",
      "The product: 87912\n"
     ]
    }
   ],
   "source": [
    "#Modules\n",
    "x = 888\n",
    "def add(a,b):\n",
    "    print(\"The sum:\",a+b)\n",
    "\n",
    "def product(a,b):\n",
    "    print(\"The product:\",a*b)\n",
    "\n",
    "add(10,x)\n",
    "product(x,99)"
   ]
  },
  {
   "cell_type": "code",
   "execution_count": 35,
   "id": "fe5a8f14-6cc9-43c1-8069-297cba9020b1",
   "metadata": {},
   "outputs": [
    {
     "ename": "ModuleNotFoundError",
     "evalue": "No module named 'imp'",
     "output_type": "error",
     "traceback": [
      "\u001b[1;31m---------------------------------------------------------------------------\u001b[0m",
      "\u001b[1;31mModuleNotFoundError\u001b[0m                       Traceback (most recent call last)",
      "Cell \u001b[1;32mIn[35], line 2\u001b[0m\n\u001b[0;32m      1\u001b[0m \u001b[38;5;28;01mimport\u001b[39;00m \u001b[38;5;21;01mtime\u001b[39;00m\n\u001b[1;32m----> 2\u001b[0m \u001b[38;5;28;01mfrom\u001b[39;00m \u001b[38;5;21;01mimp\u001b[39;00m \u001b[38;5;28;01mimport\u001b[39;00m reload\n\u001b[0;32m      3\u001b[0m time\u001b[38;5;241m.\u001b[39msleep(\u001b[38;5;241m30\u001b[39m)\n\u001b[0;32m      4\u001b[0m reload(module1)\n",
      "\u001b[1;31mModuleNotFoundError\u001b[0m: No module named 'imp'"
     ]
    }
   ],
   "source": [
    "import time\n",
    "from imp import reload\n",
    "time.sleep(30)\n",
    "reload(module1)\n",
    "time.sleep(30)\n",
    "reload(module1)\n",
    "print(\"This is test file\")"
   ]
  },
  {
   "cell_type": "code",
   "execution_count": 37,
   "id": "f026e8ef-844a-42f7-ab04-53cb7bbe0e24",
   "metadata": {},
   "outputs": [
    {
     "name": "stdout",
     "output_type": "stream",
     "text": [
      "2.0\n",
      "11\n",
      "10\n",
      "10.6\n",
      "10.6\n"
     ]
    }
   ],
   "source": [
    "from math import *\n",
    "print(sqrt(4))\n",
    "print(ceil(10.1))\n",
    "print(floor(10.1))\n",
    "print(fabs(-10.6))\n",
    "print(fabs(10.6))"
   ]
  },
  {
   "cell_type": "code",
   "execution_count": 39,
   "id": "249ba556-0d7b-4cea-86c7-e7228ec87794",
   "metadata": {},
   "outputs": [
    {
     "name": "stdout",
     "output_type": "stream",
     "text": [
      "Help on built-in module math:\n",
      "\n",
      "NAME\n",
      "    math\n",
      "\n",
      "DESCRIPTION\n",
      "    This module provides access to the mathematical functions\n",
      "    defined by the C standard.\n",
      "\n",
      "FUNCTIONS\n",
      "    acos(x, /)\n",
      "        Return the arc cosine (measured in radians) of x.\n",
      "\n",
      "        The result is between 0 and pi.\n",
      "\n",
      "    acosh(x, /)\n",
      "        Return the inverse hyperbolic cosine of x.\n",
      "\n",
      "    asin(x, /)\n",
      "        Return the arc sine (measured in radians) of x.\n",
      "\n",
      "        The result is between -pi/2 and pi/2.\n",
      "\n",
      "    asinh(x, /)\n",
      "        Return the inverse hyperbolic sine of x.\n",
      "\n",
      "    atan(x, /)\n",
      "        Return the arc tangent (measured in radians) of x.\n",
      "\n",
      "        The result is between -pi/2 and pi/2.\n",
      "\n",
      "    atan2(y, x, /)\n",
      "        Return the arc tangent (measured in radians) of y/x.\n",
      "\n",
      "        Unlike atan(y/x), the signs of both x and y are considered.\n",
      "\n",
      "    atanh(x, /)\n",
      "        Return the inverse hyperbolic tangent of x.\n",
      "\n",
      "    cbrt(x, /)\n",
      "        Return the cube root of x.\n",
      "\n",
      "    ceil(x, /)\n",
      "        Return the ceiling of x as an Integral.\n",
      "\n",
      "        This is the smallest integer >= x.\n",
      "\n",
      "    comb(n, k, /)\n",
      "        Number of ways to choose k items from n items without repetition and without order.\n",
      "\n",
      "        Evaluates to n! / (k! * (n - k)!) when k <= n and evaluates\n",
      "        to zero when k > n.\n",
      "\n",
      "        Also called the binomial coefficient because it is equivalent\n",
      "        to the coefficient of k-th term in polynomial expansion of the\n",
      "        expression (1 + x)**n.\n",
      "\n",
      "        Raises TypeError if either of the arguments are not integers.\n",
      "        Raises ValueError if either of the arguments are negative.\n",
      "\n",
      "    copysign(x, y, /)\n",
      "        Return a float with the magnitude (absolute value) of x but the sign of y.\n",
      "\n",
      "        On platforms that support signed zeros, copysign(1.0, -0.0)\n",
      "        returns -1.0.\n",
      "\n",
      "    cos(x, /)\n",
      "        Return the cosine of x (measured in radians).\n",
      "\n",
      "    cosh(x, /)\n",
      "        Return the hyperbolic cosine of x.\n",
      "\n",
      "    degrees(x, /)\n",
      "        Convert angle x from radians to degrees.\n",
      "\n",
      "    dist(p, q, /)\n",
      "        Return the Euclidean distance between two points p and q.\n",
      "\n",
      "        The points should be specified as sequences (or iterables) of\n",
      "        coordinates.  Both inputs must have the same dimension.\n",
      "\n",
      "        Roughly equivalent to:\n",
      "            sqrt(sum((px - qx) ** 2.0 for px, qx in zip(p, q)))\n",
      "\n",
      "    erf(x, /)\n",
      "        Error function at x.\n",
      "\n",
      "    erfc(x, /)\n",
      "        Complementary error function at x.\n",
      "\n",
      "    exp(x, /)\n",
      "        Return e raised to the power of x.\n",
      "\n",
      "    exp2(x, /)\n",
      "        Return 2 raised to the power of x.\n",
      "\n",
      "    expm1(x, /)\n",
      "        Return exp(x)-1.\n",
      "\n",
      "        This function avoids the loss of precision involved in the direct evaluation of exp(x)-1 for small x.\n",
      "\n",
      "    fabs(x, /)\n",
      "        Return the absolute value of the float x.\n",
      "\n",
      "    factorial(n, /)\n",
      "        Find n!.\n",
      "\n",
      "        Raise a ValueError if x is negative or non-integral.\n",
      "\n",
      "    floor(x, /)\n",
      "        Return the floor of x as an Integral.\n",
      "\n",
      "        This is the largest integer <= x.\n",
      "\n",
      "    fmod(x, y, /)\n",
      "        Return fmod(x, y), according to platform C.\n",
      "\n",
      "        x % y may differ.\n",
      "\n",
      "    frexp(x, /)\n",
      "        Return the mantissa and exponent of x, as pair (m, e).\n",
      "\n",
      "        m is a float and e is an int, such that x = m * 2.**e.\n",
      "        If x is 0, m and e are both 0.  Else 0.5 <= abs(m) < 1.0.\n",
      "\n",
      "    fsum(seq, /)\n",
      "        Return an accurate floating point sum of values in the iterable seq.\n",
      "\n",
      "        Assumes IEEE-754 floating point arithmetic.\n",
      "\n",
      "    gamma(x, /)\n",
      "        Gamma function at x.\n",
      "\n",
      "    gcd(*integers)\n",
      "        Greatest Common Divisor.\n",
      "\n",
      "    hypot(...)\n",
      "        hypot(*coordinates) -> value\n",
      "\n",
      "        Multidimensional Euclidean distance from the origin to a point.\n",
      "\n",
      "        Roughly equivalent to:\n",
      "            sqrt(sum(x**2 for x in coordinates))\n",
      "\n",
      "        For a two dimensional point (x, y), gives the hypotenuse\n",
      "        using the Pythagorean theorem:  sqrt(x*x + y*y).\n",
      "\n",
      "        For example, the hypotenuse of a 3/4/5 right triangle is:\n",
      "\n",
      "            >>> hypot(3.0, 4.0)\n",
      "            5.0\n",
      "\n",
      "    isclose(a, b, *, rel_tol=1e-09, abs_tol=0.0)\n",
      "        Determine whether two floating point numbers are close in value.\n",
      "\n",
      "          rel_tol\n",
      "            maximum difference for being considered \"close\", relative to the\n",
      "            magnitude of the input values\n",
      "          abs_tol\n",
      "            maximum difference for being considered \"close\", regardless of the\n",
      "            magnitude of the input values\n",
      "\n",
      "        Return True if a is close in value to b, and False otherwise.\n",
      "\n",
      "        For the values to be considered close, the difference between them\n",
      "        must be smaller than at least one of the tolerances.\n",
      "\n",
      "        -inf, inf and NaN behave similarly to the IEEE 754 Standard.  That\n",
      "        is, NaN is not close to anything, even itself.  inf and -inf are\n",
      "        only close to themselves.\n",
      "\n",
      "    isfinite(x, /)\n",
      "        Return True if x is neither an infinity nor a NaN, and False otherwise.\n",
      "\n",
      "    isinf(x, /)\n",
      "        Return True if x is a positive or negative infinity, and False otherwise.\n",
      "\n",
      "    isnan(x, /)\n",
      "        Return True if x is a NaN (not a number), and False otherwise.\n",
      "\n",
      "    isqrt(n, /)\n",
      "        Return the integer part of the square root of the input.\n",
      "\n",
      "    lcm(*integers)\n",
      "        Least Common Multiple.\n",
      "\n",
      "    ldexp(x, i, /)\n",
      "        Return x * (2**i).\n",
      "\n",
      "        This is essentially the inverse of frexp().\n",
      "\n",
      "    lgamma(x, /)\n",
      "        Natural logarithm of absolute value of Gamma function at x.\n",
      "\n",
      "    log(...)\n",
      "        log(x, [base=math.e])\n",
      "        Return the logarithm of x to the given base.\n",
      "\n",
      "        If the base is not specified, returns the natural logarithm (base e) of x.\n",
      "\n",
      "    log10(x, /)\n",
      "        Return the base 10 logarithm of x.\n",
      "\n",
      "    log1p(x, /)\n",
      "        Return the natural logarithm of 1+x (base e).\n",
      "\n",
      "        The result is computed in a way which is accurate for x near zero.\n",
      "\n",
      "    log2(x, /)\n",
      "        Return the base 2 logarithm of x.\n",
      "\n",
      "    modf(x, /)\n",
      "        Return the fractional and integer parts of x.\n",
      "\n",
      "        Both results carry the sign of x and are floats.\n",
      "\n",
      "    nextafter(x, y, /, *, steps=None)\n",
      "        Return the floating-point value the given number of steps after x towards y.\n",
      "\n",
      "        If steps is not specified or is None, it defaults to 1.\n",
      "\n",
      "        Raises a TypeError, if x or y is not a double, or if steps is not an integer.\n",
      "        Raises ValueError if steps is negative.\n",
      "\n",
      "    perm(n, k=None, /)\n",
      "        Number of ways to choose k items from n items without repetition and with order.\n",
      "\n",
      "        Evaluates to n! / (n - k)! when k <= n and evaluates\n",
      "        to zero when k > n.\n",
      "\n",
      "        If k is not specified or is None, then k defaults to n\n",
      "        and the function returns n!.\n",
      "\n",
      "        Raises TypeError if either of the arguments are not integers.\n",
      "        Raises ValueError if either of the arguments are negative.\n",
      "\n",
      "    pow(x, y, /)\n",
      "        Return x**y (x to the power of y).\n",
      "\n",
      "    prod(iterable, /, *, start=1)\n",
      "        Calculate the product of all the elements in the input iterable.\n",
      "\n",
      "        The default start value for the product is 1.\n",
      "\n",
      "        When the iterable is empty, return the start value.  This function is\n",
      "        intended specifically for use with numeric values and may reject\n",
      "        non-numeric types.\n",
      "\n",
      "    radians(x, /)\n",
      "        Convert angle x from degrees to radians.\n",
      "\n",
      "    remainder(x, y, /)\n",
      "        Difference between x and the closest integer multiple of y.\n",
      "\n",
      "        Return x - n*y where n*y is the closest integer multiple of y.\n",
      "        In the case where x is exactly halfway between two multiples of\n",
      "        y, the nearest even value of n is used. The result is always exact.\n",
      "\n",
      "    sin(x, /)\n",
      "        Return the sine of x (measured in radians).\n",
      "\n",
      "    sinh(x, /)\n",
      "        Return the hyperbolic sine of x.\n",
      "\n",
      "    sqrt(x, /)\n",
      "        Return the square root of x.\n",
      "\n",
      "    sumprod(p, q, /)\n",
      "        Return the sum of products of values from two iterables p and q.\n",
      "\n",
      "        Roughly equivalent to:\n",
      "\n",
      "            sum(itertools.starmap(operator.mul, zip(p, q, strict=True)))\n",
      "\n",
      "        For float and mixed int/float inputs, the intermediate products\n",
      "        and sums are computed with extended precision.\n",
      "\n",
      "    tan(x, /)\n",
      "        Return the tangent of x (measured in radians).\n",
      "\n",
      "    tanh(x, /)\n",
      "        Return the hyperbolic tangent of x.\n",
      "\n",
      "    trunc(x, /)\n",
      "        Truncates the Real x to the nearest Integral toward 0.\n",
      "\n",
      "        Uses the __trunc__ magic method.\n",
      "\n",
      "    ulp(x, /)\n",
      "        Return the value of the least significant bit of the float x.\n",
      "\n",
      "DATA\n",
      "    e = 2.718281828459045\n",
      "    inf = inf\n",
      "    nan = nan\n",
      "    pi = 3.141592653589793\n",
      "    tau = 6.283185307179586\n",
      "\n",
      "FILE\n",
      "    (built-in)\n",
      "\n",
      "\n"
     ]
    }
   ],
   "source": [
    "import math\n",
    "help(math)"
   ]
  },
  {
   "cell_type": "code",
   "execution_count": 41,
   "id": "f8f25fee-a444-4b64-8fe8-10a980546575",
   "metadata": {},
   "outputs": [
    {
     "name": "stdout",
     "output_type": "stream",
     "text": [
      "0.3837231653763793\n",
      "0.9405955816069508\n",
      "0.6064113172048208\n",
      "0.568940236089765\n",
      "0.0812494054839471\n",
      "0.2539415679944884\n",
      "0.005340434226611901\n",
      "0.5327514756288718\n",
      "0.46216373621072615\n",
      "0.08630367077787582\n"
     ]
    }
   ],
   "source": [
    "from random import *\n",
    "for i in range(10):\n",
    "    print(random())"
   ]
  },
  {
   "cell_type": "code",
   "execution_count": 45,
   "id": "ebceb655-4508-4082-88a2-ec06756d3c00",
   "metadata": {},
   "outputs": [
    {
     "name": "stdout",
     "output_type": "stream",
     "text": [
      "69\n",
      "33\n",
      "64\n",
      "63\n",
      "72\n",
      "40\n",
      "18\n",
      "43\n",
      "50\n",
      "55\n"
     ]
    }
   ],
   "source": [
    "from random import * \n",
    "for i in range(10):#generate random int value between 1 and 100 (inclusive)\n",
    "    print(randint(1,100))"
   ]
  },
  {
   "cell_type": "code",
   "execution_count": 47,
   "id": "c40acc2c-cf6c-45f8-81cc-b29a38a8453d",
   "metadata": {},
   "outputs": [
    {
     "name": "stdout",
     "output_type": "stream",
     "text": [
      "0\n",
      "4\n",
      "7\n",
      "9\n",
      "1\n",
      "6\n",
      "1\n",
      "4\n",
      "0\n",
      "9\n"
     ]
    }
   ],
   "source": [
    "from random import *\n",
    "for i in range(10):\n",
    "    print(randrange(10))"
   ]
  },
  {
   "cell_type": "code",
   "execution_count": 49,
   "id": "205c0d69-a0e1-45f7-a789-ffa13f5fd98b",
   "metadata": {},
   "outputs": [
    {
     "name": "stdout",
     "output_type": "stream",
     "text": [
      "9\n",
      "1\n",
      "6\n",
      "1\n",
      "4\n",
      "7\n",
      "1\n",
      "6\n",
      "8\n",
      "2\n"
     ]
    }
   ],
   "source": [
    "from random import * \n",
    "for i in range(10):\n",
    "    print(randrange(1,11))"
   ]
  },
  {
   "cell_type": "code",
   "execution_count": 55,
   "id": "bc3461df-cbd0-4286-967c-ae57df43e4ba",
   "metadata": {},
   "outputs": [
    {
     "name": "stdout",
     "output_type": "stream",
     "text": [
      "Munny\n",
      "Bunny\n",
      "Vinny\n",
      "Bunny\n",
      "Chinny\n",
      "Sunny\n",
      "Vinny\n",
      "Munny\n",
      "Vinny\n",
      "Vinny\n"
     ]
    }
   ],
   "source": [
    "from random import *\n",
    "list =[\"Sunny\",\"Bunny\",\"Munny\",\"Chinny\",\"Vinny\",\"Pinny\"]\n",
    "for i in range(10):\n",
    "    print(choice(list))"
   ]
  },
  {
   "cell_type": "code",
   "execution_count": 57,
   "id": "32ca5075-9d4c-47a0-9e89-33d697cf6541",
   "metadata": {},
   "outputs": [
    {
     "name": "stdout",
     "output_type": "stream",
     "text": [
      "File Name: abc.txt\n",
      "File Mode: w\n",
      "Is File Readable: False\n",
      "Is File Writable: True\n",
      "Is File Closed: False\n",
      "Is File Close: True\n"
     ]
    }
   ],
   "source": [
    "f = open(\"abc.txt\",'w')\n",
    "print(\"File Name:\",f.name)\n",
    "print(\"File Mode:\",f.mode)\n",
    "print(\"Is File Readable:\",f.readable())\n",
    "print(\"Is File Writable:\",f.writable())\n",
    "print(\"Is File Closed:\",f.closed)\n",
    "f.close()\n",
    "print(\"Is File Close:\",f.closed)"
   ]
  },
  {
   "cell_type": "code",
   "execution_count": 59,
   "id": "49aa75b5-1187-4ec9-bdd2-a4e1e6769250",
   "metadata": {},
   "outputs": [
    {
     "name": "stdout",
     "output_type": "stream",
     "text": [
      "Data Written to the file successfully\n"
     ]
    }
   ],
   "source": [
    "f=open(\"abcd.txt\",'w')\n",
    "f.write(\"Jameel\\n\")\n",
    "f.write(\"Software\\n\")\n",
    "f.write(\"Solutions\\n\")\n",
    "print(\"Data Written to the file successfully\")\n",
    "f.close()"
   ]
  },
  {
   "cell_type": "code",
   "execution_count": 63,
   "id": "e445a27f-5107-4cfa-a2fe-19d68ca74988",
   "metadata": {},
   "outputs": [
    {
     "name": "stdout",
     "output_type": "stream",
     "text": [
      "Jameel\n",
      "Software\n",
      "Solutions\n",
      "\n"
     ]
    }
   ],
   "source": [
    "f=open(\"abcd.txt\",'r')\n",
    "data=f.read()\n",
    "print(data)\n",
    "f.close()"
   ]
  },
  {
   "cell_type": "code",
   "execution_count": 67,
   "id": "c9926a08-bb08-4f6a-a9fe-0f22aa76a916",
   "metadata": {},
   "outputs": [
    {
     "name": "stdout",
     "output_type": "stream",
     "text": [
      "Jameel\n",
      "Sof\n"
     ]
    }
   ],
   "source": [
    "f=open(\"abcd.txt\",'r')\n",
    "data=f.read(10)\n",
    "print(data)\n",
    "f.close()"
   ]
  },
  {
   "cell_type": "code",
   "execution_count": 73,
   "id": "e420d916-7c8b-4885-b1f4-64dd6fdb8a6f",
   "metadata": {},
   "outputs": [
    {
     "name": "stdout",
     "output_type": "stream",
     "text": [
      "My name is Mohammed Jameel. I am learning file handling using Python for the very first time in my life and career. Believe it or not, I am learning it."
     ]
    }
   ],
   "source": [
    "f=open(\"abc.txt\",'r')\n",
    "line1=f.readline()\n",
    "print(line1,end='')\n",
    "line1=f.readline()\n",
    "print(line1,end='')\n",
    "line1=f.readline()\n",
    "print(line1,end='')\n",
    "line1=f.readline()\n",
    "print(line1,end='')\n",
    "f.close()"
   ]
  },
  {
   "cell_type": "code",
   "execution_count": 77,
   "id": "e283128d-7372-4d7e-b3c3-c8fe63b977d7",
   "metadata": {},
   "outputs": [
    {
     "name": "stdout",
     "output_type": "stream",
     "text": [
      "My name is Mohammed Jameel. I am learning file handling using Python for the very first time in my life and career. Believe it or not, I am learning it."
     ]
    }
   ],
   "source": [
    "f=open(\"abc.txt\",'r')\n",
    "lines=f.readlines()\n",
    "for line in lines:\n",
    "    print(line,end='')\n",
    "f.close()"
   ]
  },
  {
   "cell_type": "code",
   "execution_count": 83,
   "id": "2052f966-813c-4c94-82f2-43df42ba3f99",
   "metadata": {},
   "outputs": [
    {
     "name": "stdout",
     "output_type": "stream",
     "text": [
      "Is File Close: False\n",
      "Is File Closed: True\n"
     ]
    }
   ],
   "source": [
    "with open(\"abcd.txt\",\"w\") as f:\n",
    "    f.write(\"Durga\\n\")\n",
    "    f.write(\"Software\\n\")\n",
    "    f.write(\"Yes\\n\")\n",
    "    print(\"Is File Close:\",f.closed)\n",
    "print(\"Is File Closed:\",f.closed)"
   ]
  },
  {
   "cell_type": "code",
   "execution_count": 89,
   "id": "8ebd2b9a-b7ab-46e5-b456-975ec888a057",
   "metadata": {},
   "outputs": [
    {
     "name": "stdin",
     "output_type": "stream",
     "text": [
      "Enter File Name: abc.txt\n"
     ]
    },
    {
     "name": "stdout",
     "output_type": "stream",
     "text": [
      "File exists: abc.txt\n",
      "The content of file is:\n",
      "My name is Mohammed Jameel. I am learning file handling using Python for the very first time in my life and career. Believe it or not, I am learning it.\n"
     ]
    }
   ],
   "source": [
    "# Write a program to check whether the given file exists or not. If it is available then print its content?\n",
    "import os,sys\n",
    "fname=input(\"Enter File Name:\")\n",
    "if os.path.isfile(fname):\n",
    "    print(\"File exists:\",fname)\n",
    "    f=open(fname,\"r\")\n",
    "else:\n",
    "    print(\"File does not exist:\",fname)\n",
    "    sys.exit(0)\n",
    "print(\"The content of file is:\")\n",
    "data=f.read()\n",
    "print(data)"
   ]
  },
  {
   "cell_type": "code",
   "execution_count": null,
   "id": "fdbb2c68-5153-44f8-a63a-fc04e4342b4c",
   "metadata": {},
   "outputs": [],
   "source": []
  }
 ],
 "metadata": {
  "kernelspec": {
   "display_name": "Python 3 (ipykernel)",
   "language": "python",
   "name": "python3"
  },
  "language_info": {
   "codemirror_mode": {
    "name": "ipython",
    "version": 3
   },
   "file_extension": ".py",
   "mimetype": "text/x-python",
   "name": "python",
   "nbconvert_exporter": "python",
   "pygments_lexer": "ipython3",
   "version": "3.12.4"
  }
 },
 "nbformat": 4,
 "nbformat_minor": 5
}
